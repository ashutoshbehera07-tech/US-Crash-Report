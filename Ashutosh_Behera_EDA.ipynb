{
 "cells": [
  {
   "cell_type": "markdown",
   "id": "b40947d6-a1ab-46e9-9b63-38a3d78c9b1a",
   "metadata": {},
   "source": [
    "# **Drivers Crash Analysis in Maryland(USA)**"
   ]
  },
  {
   "cell_type": "markdown",
   "id": "2b0cb0d9-b55b-4360-a6ff-07a1d8d9c6bc",
   "metadata": {},
   "source": [
    "## Table of Contents\n",
    "\n",
    "1. [**Introduction**](#1)\n",
    "    - Project Description\n",
    "    - Data Description\n",
    "2. [**Acquiring and Loading Data**](#2)\n",
    "\t- Importing Libraries and Notebook Setup\n",
    "    - Loading Data\n",
    "    - Basic Data Exploration\n",
    "    - Areas to Fix\n",
    "3. [**Data Proprocessing**](#3)\n",
    "4. [**Data Analysis**](#4)\n",
    "5. [**Conclusion**](#5)\n",
    "    - Insights\n",
    "    - Suggestions\n",
    "    - Possible Next Steps\n",
    "6. [**Epilogue**](#6) \n",
    "    - References\n",
    "    - Versioning"
   ]
  },
  {
   "cell_type": "markdown",
   "id": "039f98e6",
   "metadata": {},
   "source": [
    "---"
   ]
  },
  {
   "cell_type": "markdown",
   "id": "5f7fbcec-3664-47cc-9ace-e7c7fe0f520d",
   "metadata": {},
   "source": [
    "# 1"
   ]
  },
  {
   "cell_type": "markdown",
   "id": "555261f6-7436-4b50-a7e2-a393ec6f6ed3",
   "metadata": {},
   "source": [
    "## Introduction\n",
    "\n",
    "**Traffic accidents** are one of the most significant public safety concerns in modern urban life. With thousands of crashes occurring annually, understanding when, where, and why these incidents happen is crucial for building safer roads, informing public policy, and enhancing driver awareness.\n",
    "\n",
    "**This project aims to uncover patterns and insights in traffic crash data collected in the state of Maryland**, with a special focus on injury severity, driver fault, and the impact of environmental conditions such as weather, surface, and lighting.\n",
    "\n",
    "### Project Description\n",
    "\n",
    "**Goal/Purpose:** \n",
    "\n",
    "This project aims to perform **Exploratory Data Analysis (EDA)** on **Traffic crash and drivers data** to uncover patterns and insights that can help improve road safety. The key focus is to analyze how weather conditions, surface conditions, and time factors (such as hour and weekday) impact the severity of crashes and driver fault.\n",
    "Understanding these patterns is crucial for traffic authorities, urban planners, and policymakers to design preventive measures, enforce traffic laws effectively, and enhance public awareness around risky driving conditions\n",
    "\n",
    "<p>&nbsp;</p>\n",
    "\n",
    "**Questions to be Answered:**\n",
    "\n",
    "- Question 1: **How do weather and surface conditions affect the severity of traffic crashes and driver responsibility?**\n",
    "- Question 2: **When are crashes most likely to occur and how serious are they?**\n",
    "\n",
    "<p>&nbsp;</p>\n",
    "\n",
    "**Assumptions/Methodology/Scope:** \n",
    "\n",
    "**Data Cleaning:** \n",
    "- Removed irrelevant or inconsistent columns. Filled missing values in string-based columns with \"NA\". Parsed and standardized the datetime fields into separate Crash Date, Crash Time, and Hour columns.\n",
    "\n",
    "**Scope:** \n",
    "- Focused on crash-level variables such as weather, lighting, road surface, and driver condition.\n",
    "\n",
    "**Methodology:** \n",
    "- Visualized relationships using bar charts, pie charts and heatmaps using Plotly, Matplotlib, and Seaborn.\n",
    "\n",
    "**Limitations:** \n",
    "- Does not include individual driver profiles or real-time traffic volume data. Causality is not inferred, only patterns.\n",
    "\n",
    "<p>&nbsp;</p>\n",
    "\n",
    "### Data Description\n",
    "\n",
    "**Content:** \n",
    "\n",
    "This dataset is a CSV file containing thousands of traffic crash records in the state of Maryland. Each row represents a unique reported crash, with details about time, location, vehicle involved, environmental conditions, and injury severity.\n",
    "\n",
    "<p>&nbsp;</p>\n",
    "\n",
    "**Acknowledgements:** \n",
    "\n",
    "This dataset is provided by _(. The original dataset was scraped by _) and the original source can be found on [website](https:catalog.data.gov/dataset/crash-reporting-drivers-data)."
   ]
  },
  {
   "cell_type": "markdown",
   "id": "1c17f822",
   "metadata": {},
   "source": [
    "---"
   ]
  },
  {
   "cell_type": "markdown",
   "id": "75dc1c5a-25c4-463b-965c-54055421a72d",
   "metadata": {},
   "source": [
    "# 2"
   ]
  },
  {
   "cell_type": "markdown",
   "id": "38e0bb4b-a8a7-4b68-9dd0-1d9a610efc02",
   "metadata": {},
   "source": [
    "## Acquiring and Loading Data\n",
    "### Importing Libraries and Notebook Setup"
   ]
  },
  {
   "cell_type": "code",
   "execution_count": 1,
   "id": "d3ba8b16-909d-437c-885b-88fc9f82b66b",
   "metadata": {},
   "outputs": [],
   "source": [
    "#Installing the Libraries \n",
    "# pip install pandas\n",
    "# pip install numpy\n",
    "# pip install matplotlib\n",
    "# pip install plotly"
   ]
  },
  {
   "cell_type": "code",
   "execution_count": 2,
   "id": "b6ff6be0-6bad-4d9c-a7f3-d86021009cc1",
   "metadata": {},
   "outputs": [],
   "source": [
    "import pandas as pd\n",
    "import numpy as np\n",
    "import matplotlib.pyplot as plt\n",
    "import seaborn as sns\n",
    "import plotly.express as px\n",
    "from dateutil import parser\n",
    "from datetime import datetime"
   ]
  },
  {
   "cell_type": "markdown",
   "id": "0e84472f-7146-4781-bda7-6998289e1823",
   "metadata": {},
   "source": [
    "# Loading the data"
   ]
  },
  {
   "cell_type": "code",
   "execution_count": 3,
   "id": "20c1ff98-6b38-4cbc-807b-5ac8de9749a9",
   "metadata": {},
   "outputs": [
    {
     "name": "stdout",
     "output_type": "stream",
     "text": [
      "Counting the shapes of the data sets (rows, columns): (196043, 39)\n"
     ]
    }
   ],
   "source": [
    "# Loading the file into the notebook\n",
    "file_name = \"C:/Users/ASUS/OneDrive/Desktop/EDA_Project/Crash_Reporting_-_Drivers_Data.csv\"\n",
    "df = pd.read_csv(file_name, low_memory= False)\n",
    "# Display the number rows and columns in the data sets\n",
    "print(\"Counting the shapes of the data sets (rows, columns):\", df.shape)"
   ]
  },
  {
   "cell_type": "markdown",
   "id": "d68ee326",
   "metadata": {},
   "source": [
    "### Basic Data Exploration"
   ]
  },
  {
   "cell_type": "code",
   "execution_count": 4,
   "id": "45067017-22d4-4907-8898-d37091c26301",
   "metadata": {},
   "outputs": [
    {
     "name": "stdout",
     "output_type": "stream",
     "text": [
      "Column Names:\n",
      "['Report Number', 'Local Case Number', 'Agency Name', 'ACRS Report Type', 'Crash Date/Time', 'Route Type', 'Road Name', 'Cross-Street Name', 'Off-Road Description', 'Municipality', 'Related Non-Motorist', 'Collision Type', 'Weather', 'Surface Condition', 'Light', 'Traffic Control', 'Driver Substance Abuse', 'Non-Motorist Substance Abuse', 'Person ID', 'Driver At Fault', 'Injury Severity', 'Circumstance', 'Driver Distracted By', 'Drivers License State', 'Vehicle ID', 'Vehicle Damage Extent', 'Vehicle First Impact Location', 'Vehicle Body Type', 'Vehicle Movement', 'Vehicle Going Dir', 'Speed Limit', 'Driverless Vehicle', 'Parked Vehicle', 'Vehicle Year', 'Vehicle Make', 'Vehicle Model', 'Latitude', 'Longitude', 'Location']\n"
     ]
    }
   ],
   "source": [
    "# Display the Column Names in a List\n",
    "print(\"Column Names:\")\n",
    "print(df.columns.tolist())"
   ]
  },
  {
   "cell_type": "code",
   "execution_count": 5,
   "id": "c8b856fe-9dee-4f4c-94d0-bb4da051f823",
   "metadata": {},
   "outputs": [
    {
     "name": "stdout",
     "output_type": "stream",
     "text": [
      "  Report Number Local Case Number                Agency Name  \\\n",
      "0    DM8479000T         210020119  Takoma Park Police Depart   \n",
      "1   MCP2970000R          15045937                 MONTGOMERY   \n",
      "2   MCP20160036         180040948   Montgomery County Police   \n",
      "3    EJ7879003C         230048975  Gaithersburg Police Depar   \n",
      "4   MCP2967004Y         230070277   Montgomery County Police   \n",
      "\n",
      "        ACRS Report Type         Crash Date/Time        Route Type  \\\n",
      "0  Property Damage Crash  05/27/2021 07:40:00 PM               NaN   \n",
      "1  Property Damage Crash        09-11-2015 13:29               NaN   \n",
      "2  Property Damage Crash  08/17/2018 02:25:00 PM               NaN   \n",
      "3           Injury Crash        08-11-2023 18:00               NaN   \n",
      "4  Property Damage Crash        12-06-2023 18:42  Maryland (State)   \n",
      "\n",
      "         Road Name Cross-Street Name               Off-Road Description  \\\n",
      "0              NaN               NaN                     IN PARKING LOT   \n",
      "1              NaN               NaN    Parking Lot: \\n2525 Ennalls Ave   \n",
      "2              NaN               NaN  PARKING LOT OF 16246 FREDERICK RD   \n",
      "3              NaN               NaN                   1 N SUMMIT DRIVE   \n",
      "4  CONNECTICUT AVE      BALTIMORE ST                                NaN   \n",
      "\n",
      "  Municipality  ... Vehicle Going Dir Speed Limit Driverless Vehicle  \\\n",
      "0          NaN  ...               NaN           0                 No   \n",
      "1          NaN  ...             South           5                 No   \n",
      "2          NaN  ...              West          15                 No   \n",
      "3          NaN  ...           Unknown          15                 No   \n",
      "4   KENSINGTON  ...             South          35                 No   \n",
      "\n",
      "  Parked Vehicle Vehicle Year Vehicle Make Vehicle Model   Latitude  \\\n",
      "0            Yes         2017         HINO           TWK  38.987657   \n",
      "1             No         2012       TOYOTA            SU  39.039917   \n",
      "2             No         2015         MAZD            TK  38.743373   \n",
      "3             No         2018          RAM            TK  39.145873   \n",
      "4             No         2017         AUDI            A3  39.025170   \n",
      "\n",
      "   Longitude                     Location  \n",
      "0 -76.987545    (38.98765667, -76.987545)  \n",
      "1 -77.053649  (39.03991652, -77.05364898)  \n",
      "2 -77.546997    (38.743373, -77.54699707)  \n",
      "3 -77.191940  (39.14587303, -77.19194047)  \n",
      "4 -77.076333  (39.02517017, -77.07633333)  \n",
      "\n",
      "[5 rows x 39 columns]\n",
      "       Report Number Local Case Number Agency Name       ACRS Report Type  \\\n",
      "196038   MCP23560049         250018141  MONTGOMERY  Property Damage Crash   \n",
      "196039   MCP3347002L         250018020  MONTGOMERY  Property Damage Crash   \n",
      "196040   MCP25390031         250018099  MONTGOMERY  Property Damage Crash   \n",
      "196041   MCP30940065         250018571  MONTGOMERY           Injury Crash   \n",
      "196042   MCP2764003X          25008861  MONTGOMERY  Property Damage Crash   \n",
      "\n",
      "               Crash Date/Time              Route Type  \\\n",
      "196038  04/26/2025 01:26:00 PM            County Route   \n",
      "196039  04/25/2025 05:05:00 PM            County Route   \n",
      "196040  04/26/2025 03:54:00 AM  Maryland (State) Route   \n",
      "196041  04/28/2025 06:44:00 PM  Maryland (State) Route   \n",
      "196042  04/30/2025 12:23:00 PM  Maryland (State) Route   \n",
      "\n",
      "                       Road Name Cross-Street Name Off-Road Description  \\\n",
      "196038                       NaN    WILLOWBROOK DR                  NaN   \n",
      "196039               RANDOLPH RD               NaN                  NaN   \n",
      "196040           RIVER RD (WB/L)               NaN                  NaN   \n",
      "196041              WOODFIELD RD               NaN                  NaN   \n",
      "196042  UNIVERSITY BLVD W (WB/L)   NEWPORT MILL RD                  NaN   \n",
      "\n",
      "       Municipality  ... Vehicle Going Dir Speed Limit Driverless Vehicle  \\\n",
      "196038          NaN  ...        Northbound          35                 No   \n",
      "196039          NaN  ...        Southbound          35                 No   \n",
      "196040          NaN  ...         Westbound          45                 No   \n",
      "196041          NaN  ...        Northbound          35                 No   \n",
      "196042          NaN  ...         Eastbound          25                 No   \n",
      "\n",
      "       Parked Vehicle Vehicle Year Vehicle Make Vehicle Model   Latitude  \\\n",
      "196038             No         2011       TOYOTA         CAMRY  39.042316   \n",
      "196039             No         2014       TOYOTA         CAMRY  39.053341   \n",
      "196040             No         2017       TOYOTA        SIENNA  38.990311   \n",
      "196041             No         2011        MAZDA        MAZDA6  39.159586   \n",
      "196042             No         2015       TOYOTA       COROLLA  39.033927   \n",
      "\n",
      "        Longitude                     Location  \n",
      "196038 -77.178178      (39.042316, -77.178178)  \n",
      "196039 -77.107654  (39.05334053, -77.10765438)  \n",
      "196040 -77.152860   (38.99031131, -77.1528604)  \n",
      "196041 -77.159822    (39.159586, -77.15982233)  \n",
      "196042 -77.072410   (39.03392667, -77.0724102)  \n",
      "\n",
      "[5 rows x 39 columns]\n"
     ]
    }
   ],
   "source": [
    "# Display the first 5 rows of the column in the data set\n",
    "print(df.head())\n",
    "#Display the last rows in the column in the data set\n",
    "print(df.tail())"
   ]
  },
  {
   "cell_type": "markdown",
   "id": "0ec0166a",
   "metadata": {},
   "source": [
    "---"
   ]
  },
  {
   "cell_type": "markdown",
   "id": "7b669181",
   "metadata": {},
   "source": [
    "# 3"
   ]
  },
  {
   "cell_type": "markdown",
   "id": "60d37ff2",
   "metadata": {},
   "source": [
    "## Data Processing"
   ]
  },
  {
   "cell_type": "markdown",
   "id": "ba766cd9-7718-4712-9d25-933fbf83d103",
   "metadata": {},
   "source": [
    "## Checking the Data types"
   ]
  },
  {
   "cell_type": "code",
   "execution_count": 6,
   "id": "28d4a1fb-8f9e-460d-90ce-1eaf0501b944",
   "metadata": {},
   "outputs": [
    {
     "name": "stdout",
     "output_type": "stream",
     "text": [
      "<class 'pandas.core.frame.DataFrame'>\n",
      "RangeIndex: 196043 entries, 0 to 196042\n",
      "Data columns (total 39 columns):\n",
      " #   Column                         Non-Null Count   Dtype  \n",
      "---  ------                         --------------   -----  \n",
      " 0   Report Number                  196043 non-null  object \n",
      " 1   Local Case Number              196043 non-null  object \n",
      " 2   Agency Name                    196043 non-null  object \n",
      " 3   ACRS Report Type               196043 non-null  object \n",
      " 4   Crash Date/Time                196043 non-null  object \n",
      " 5   Route Type                     176889 non-null  object \n",
      " 6   Road Name                      174842 non-null  object \n",
      " 7   Cross-Street Name              165057 non-null  object \n",
      " 8   Off-Road Description           18116 non-null   object \n",
      " 9   Municipality                   19126 non-null   object \n",
      " 10  Related Non-Motorist           6328 non-null    object \n",
      " 11  Collision Type                 195458 non-null  object \n",
      " 12  Weather                        182687 non-null  object \n",
      " 13  Surface Condition              173640 non-null  object \n",
      " 14  Light                          194598 non-null  object \n",
      " 15  Traffic Control                168436 non-null  object \n",
      " 16  Driver Substance Abuse         164723 non-null  object \n",
      " 17  Non-Motorist Substance Abuse   5182 non-null    object \n",
      " 18  Person ID                      196043 non-null  object \n",
      " 19  Driver At Fault                196043 non-null  object \n",
      " 20  Injury Severity                194520 non-null  object \n",
      " 21  Circumstance                   37415 non-null   object \n",
      " 22  Driver Distracted By           194398 non-null  object \n",
      " 23  Drivers License State          183396 non-null  object \n",
      " 24  Vehicle ID                     196043 non-null  object \n",
      " 25  Vehicle Damage Extent          195727 non-null  object \n",
      " 26  Vehicle First Impact Location  195887 non-null  object \n",
      " 27  Vehicle Body Type              193106 non-null  object \n",
      " 28  Vehicle Movement               194874 non-null  object \n",
      " 29  Vehicle Going Dir              189211 non-null  object \n",
      " 30  Speed Limit                    196043 non-null  int64  \n",
      " 31  Driverless Vehicle             196043 non-null  object \n",
      " 32  Parked Vehicle                 194516 non-null  object \n",
      " 33  Vehicle Year                   196043 non-null  int64  \n",
      " 34  Vehicle Make                   195366 non-null  object \n",
      " 35  Vehicle Model                  195324 non-null  object \n",
      " 36  Latitude                       196043 non-null  float64\n",
      " 37  Longitude                      196043 non-null  float64\n",
      " 38  Location                       196043 non-null  object \n",
      "dtypes: float64(2), int64(2), object(35)\n",
      "memory usage: 58.3+ MB\n"
     ]
    }
   ],
   "source": [
    "# Checking and display the data types of then columns\n",
    "df.info()"
   ]
  },
  {
   "cell_type": "code",
   "execution_count": 7,
   "id": "eb9aa97e-e433-497b-8518-fedbb9e39255",
   "metadata": {
    "scrolled": true
   },
   "outputs": [
    {
     "data": {
      "text/plain": [
       "Report Number                     object\n",
       "Local Case Number                 object\n",
       "Agency Name                       object\n",
       "ACRS Report Type                  object\n",
       "Crash Date/Time                   object\n",
       "Route Type                        object\n",
       "Road Name                         object\n",
       "Cross-Street Name                 object\n",
       "Off-Road Description              object\n",
       "Municipality                      object\n",
       "Related Non-Motorist              object\n",
       "Collision Type                    object\n",
       "Weather                           object\n",
       "Surface Condition                 object\n",
       "Light                             object\n",
       "Traffic Control                   object\n",
       "Driver Substance Abuse            object\n",
       "Non-Motorist Substance Abuse      object\n",
       "Person ID                         object\n",
       "Driver At Fault                   object\n",
       "Injury Severity                   object\n",
       "Circumstance                      object\n",
       "Driver Distracted By              object\n",
       "Drivers License State             object\n",
       "Vehicle ID                        object\n",
       "Vehicle Damage Extent             object\n",
       "Vehicle First Impact Location     object\n",
       "Vehicle Body Type                 object\n",
       "Vehicle Movement                  object\n",
       "Vehicle Going Dir                 object\n",
       "Speed Limit                        int64\n",
       "Driverless Vehicle                object\n",
       "Parked Vehicle                    object\n",
       "Vehicle Year                       int64\n",
       "Vehicle Make                      object\n",
       "Vehicle Model                     object\n",
       "Latitude                         float64\n",
       "Longitude                        float64\n",
       "Location                          object\n",
       "dtype: object"
      ]
     },
     "execution_count": 7,
     "metadata": {},
     "output_type": "execute_result"
    }
   ],
   "source": [
    "df.dtypes"
   ]
  },
  {
   "cell_type": "code",
   "execution_count": 8,
   "id": "e4c70ef7-64af-4e79-bd58-b3afa86d1753",
   "metadata": {},
   "outputs": [
    {
     "name": "stdout",
     "output_type": "stream",
     "text": [
      "Object Columns:\n",
      "Index(['Report Number', 'Local Case Number', 'Agency Name', 'ACRS Report Type',\n",
      "       'Crash Date/Time', 'Route Type', 'Road Name', 'Cross-Street Name',\n",
      "       'Off-Road Description', 'Municipality', 'Related Non-Motorist',\n",
      "       'Collision Type', 'Weather', 'Surface Condition', 'Light',\n",
      "       'Traffic Control', 'Driver Substance Abuse',\n",
      "       'Non-Motorist Substance Abuse', 'Person ID', 'Driver At Fault',\n",
      "       'Injury Severity', 'Circumstance', 'Driver Distracted By',\n",
      "       'Drivers License State', 'Vehicle ID', 'Vehicle Damage Extent',\n",
      "       'Vehicle First Impact Location', 'Vehicle Body Type',\n",
      "       'Vehicle Movement', 'Vehicle Going Dir', 'Driverless Vehicle',\n",
      "       'Parked Vehicle', 'Vehicle Make', 'Vehicle Model', 'Location'],\n",
      "      dtype='object')\n"
     ]
    }
   ],
   "source": [
    "# Select columns in the Dataframe 'df' that have the data type 'object' \n",
    "object_columns = df.select_dtypes(include = 'object').columns\n",
    "print(\"Object Columns:\")\n",
    "# Print the list of object-type columns\n",
    "print(object_columns)"
   ]
  },
  {
   "cell_type": "markdown",
   "id": "63bcbdbb",
   "metadata": {},
   "source": [
    "---"
   ]
  },
  {
   "cell_type": "markdown",
   "id": "728b72d9",
   "metadata": {},
   "source": [
    "### Checking the Data Range"
   ]
  },
  {
   "cell_type": "code",
   "execution_count": 9,
   "id": "5e9aa439-d5ae-4ef8-b8ca-88467d462099",
   "metadata": {},
   "outputs": [
    {
     "data": {
      "text/html": [
       "<div>\n",
       "<style scoped>\n",
       "    .dataframe tbody tr th:only-of-type {\n",
       "        vertical-align: middle;\n",
       "    }\n",
       "\n",
       "    .dataframe tbody tr th {\n",
       "        vertical-align: top;\n",
       "    }\n",
       "\n",
       "    .dataframe thead th {\n",
       "        text-align: right;\n",
       "    }\n",
       "</style>\n",
       "<table border=\"1\" class=\"dataframe\">\n",
       "  <thead>\n",
       "    <tr style=\"text-align: right;\">\n",
       "      <th></th>\n",
       "      <th>Report Number</th>\n",
       "      <th>Local Case Number</th>\n",
       "      <th>Agency Name</th>\n",
       "      <th>ACRS Report Type</th>\n",
       "      <th>Crash Date/Time</th>\n",
       "      <th>Route Type</th>\n",
       "      <th>Road Name</th>\n",
       "      <th>Cross-Street Name</th>\n",
       "      <th>Off-Road Description</th>\n",
       "      <th>Municipality</th>\n",
       "      <th>...</th>\n",
       "      <th>Vehicle Going Dir</th>\n",
       "      <th>Speed Limit</th>\n",
       "      <th>Driverless Vehicle</th>\n",
       "      <th>Parked Vehicle</th>\n",
       "      <th>Vehicle Year</th>\n",
       "      <th>Vehicle Make</th>\n",
       "      <th>Vehicle Model</th>\n",
       "      <th>Latitude</th>\n",
       "      <th>Longitude</th>\n",
       "      <th>Location</th>\n",
       "    </tr>\n",
       "  </thead>\n",
       "  <tbody>\n",
       "    <tr>\n",
       "      <th>count</th>\n",
       "      <td>196043</td>\n",
       "      <td>196043</td>\n",
       "      <td>196043</td>\n",
       "      <td>196043</td>\n",
       "      <td>196043</td>\n",
       "      <td>176889</td>\n",
       "      <td>174842</td>\n",
       "      <td>165057</td>\n",
       "      <td>18116</td>\n",
       "      <td>19126</td>\n",
       "      <td>...</td>\n",
       "      <td>189211</td>\n",
       "      <td>196043.000000</td>\n",
       "      <td>196043</td>\n",
       "      <td>194516</td>\n",
       "      <td>196043.000000</td>\n",
       "      <td>195366</td>\n",
       "      <td>195324</td>\n",
       "      <td>196043.000000</td>\n",
       "      <td>196043.000000</td>\n",
       "      <td>196043</td>\n",
       "    </tr>\n",
       "    <tr>\n",
       "      <th>unique</th>\n",
       "      <td>110416</td>\n",
       "      <td>110307</td>\n",
       "      <td>10</td>\n",
       "      <td>3</td>\n",
       "      <td>107722</td>\n",
       "      <td>19</td>\n",
       "      <td>4523</td>\n",
       "      <td>7369</td>\n",
       "      <td>12904</td>\n",
       "      <td>20</td>\n",
       "      <td>...</td>\n",
       "      <td>10</td>\n",
       "      <td>NaN</td>\n",
       "      <td>2</td>\n",
       "      <td>2</td>\n",
       "      <td>NaN</td>\n",
       "      <td>1951</td>\n",
       "      <td>7061</td>\n",
       "      <td>NaN</td>\n",
       "      <td>NaN</td>\n",
       "      <td>109561</td>\n",
       "    </tr>\n",
       "    <tr>\n",
       "      <th>top</th>\n",
       "      <td>MCP229800RC</td>\n",
       "      <td>200022715</td>\n",
       "      <td>Montgomery County Police</td>\n",
       "      <td>Property Damage Crash</td>\n",
       "      <td>12-10-2018 18:10</td>\n",
       "      <td>Maryland (State)</td>\n",
       "      <td>GEORGIA AVE</td>\n",
       "      <td>GEORGIA AVE</td>\n",
       "      <td>PARKING LOT</td>\n",
       "      <td>ROCKVILLE</td>\n",
       "      <td>...</td>\n",
       "      <td>North</td>\n",
       "      <td>NaN</td>\n",
       "      <td>No</td>\n",
       "      <td>No</td>\n",
       "      <td>NaN</td>\n",
       "      <td>TOYOTA</td>\n",
       "      <td>4S</td>\n",
       "      <td>NaN</td>\n",
       "      <td>NaN</td>\n",
       "      <td>(38.953, -77.338)</td>\n",
       "    </tr>\n",
       "    <tr>\n",
       "      <th>freq</th>\n",
       "      <td>10</td>\n",
       "      <td>10</td>\n",
       "      <td>138376</td>\n",
       "      <td>125433</td>\n",
       "      <td>11</td>\n",
       "      <td>77077</td>\n",
       "      <td>11407</td>\n",
       "      <td>2263</td>\n",
       "      <td>132</td>\n",
       "      <td>9320</td>\n",
       "      <td>...</td>\n",
       "      <td>47647</td>\n",
       "      <td>NaN</td>\n",
       "      <td>195296</td>\n",
       "      <td>191338</td>\n",
       "      <td>NaN</td>\n",
       "      <td>27716</td>\n",
       "      <td>13753</td>\n",
       "      <td>NaN</td>\n",
       "      <td>NaN</td>\n",
       "      <td>45</td>\n",
       "    </tr>\n",
       "    <tr>\n",
       "      <th>mean</th>\n",
       "      <td>NaN</td>\n",
       "      <td>NaN</td>\n",
       "      <td>NaN</td>\n",
       "      <td>NaN</td>\n",
       "      <td>NaN</td>\n",
       "      <td>NaN</td>\n",
       "      <td>NaN</td>\n",
       "      <td>NaN</td>\n",
       "      <td>NaN</td>\n",
       "      <td>NaN</td>\n",
       "      <td>...</td>\n",
       "      <td>NaN</td>\n",
       "      <td>32.294752</td>\n",
       "      <td>NaN</td>\n",
       "      <td>NaN</td>\n",
       "      <td>1965.607856</td>\n",
       "      <td>NaN</td>\n",
       "      <td>NaN</td>\n",
       "      <td>39.083082</td>\n",
       "      <td>-77.112164</td>\n",
       "      <td>NaN</td>\n",
       "    </tr>\n",
       "    <tr>\n",
       "      <th>std</th>\n",
       "      <td>NaN</td>\n",
       "      <td>NaN</td>\n",
       "      <td>NaN</td>\n",
       "      <td>NaN</td>\n",
       "      <td>NaN</td>\n",
       "      <td>NaN</td>\n",
       "      <td>NaN</td>\n",
       "      <td>NaN</td>\n",
       "      <td>NaN</td>\n",
       "      <td>NaN</td>\n",
       "      <td>...</td>\n",
       "      <td>NaN</td>\n",
       "      <td>11.239418</td>\n",
       "      <td>NaN</td>\n",
       "      <td>NaN</td>\n",
       "      <td>340.601247</td>\n",
       "      <td>NaN</td>\n",
       "      <td>NaN</td>\n",
       "      <td>0.071869</td>\n",
       "      <td>0.098254</td>\n",
       "      <td>NaN</td>\n",
       "    </tr>\n",
       "    <tr>\n",
       "      <th>min</th>\n",
       "      <td>NaN</td>\n",
       "      <td>NaN</td>\n",
       "      <td>NaN</td>\n",
       "      <td>NaN</td>\n",
       "      <td>NaN</td>\n",
       "      <td>NaN</td>\n",
       "      <td>NaN</td>\n",
       "      <td>NaN</td>\n",
       "      <td>NaN</td>\n",
       "      <td>NaN</td>\n",
       "      <td>...</td>\n",
       "      <td>NaN</td>\n",
       "      <td>0.000000</td>\n",
       "      <td>NaN</td>\n",
       "      <td>NaN</td>\n",
       "      <td>0.000000</td>\n",
       "      <td>NaN</td>\n",
       "      <td>NaN</td>\n",
       "      <td>37.720000</td>\n",
       "      <td>-79.486000</td>\n",
       "      <td>NaN</td>\n",
       "    </tr>\n",
       "    <tr>\n",
       "      <th>25%</th>\n",
       "      <td>NaN</td>\n",
       "      <td>NaN</td>\n",
       "      <td>NaN</td>\n",
       "      <td>NaN</td>\n",
       "      <td>NaN</td>\n",
       "      <td>NaN</td>\n",
       "      <td>NaN</td>\n",
       "      <td>NaN</td>\n",
       "      <td>NaN</td>\n",
       "      <td>NaN</td>\n",
       "      <td>...</td>\n",
       "      <td>NaN</td>\n",
       "      <td>25.000000</td>\n",
       "      <td>NaN</td>\n",
       "      <td>NaN</td>\n",
       "      <td>2006.000000</td>\n",
       "      <td>NaN</td>\n",
       "      <td>NaN</td>\n",
       "      <td>39.024429</td>\n",
       "      <td>-77.189392</td>\n",
       "      <td>NaN</td>\n",
       "    </tr>\n",
       "    <tr>\n",
       "      <th>50%</th>\n",
       "      <td>NaN</td>\n",
       "      <td>NaN</td>\n",
       "      <td>NaN</td>\n",
       "      <td>NaN</td>\n",
       "      <td>NaN</td>\n",
       "      <td>NaN</td>\n",
       "      <td>NaN</td>\n",
       "      <td>NaN</td>\n",
       "      <td>NaN</td>\n",
       "      <td>NaN</td>\n",
       "      <td>...</td>\n",
       "      <td>NaN</td>\n",
       "      <td>35.000000</td>\n",
       "      <td>NaN</td>\n",
       "      <td>NaN</td>\n",
       "      <td>2012.000000</td>\n",
       "      <td>NaN</td>\n",
       "      <td>NaN</td>\n",
       "      <td>39.074875</td>\n",
       "      <td>-77.105265</td>\n",
       "      <td>NaN</td>\n",
       "    </tr>\n",
       "    <tr>\n",
       "      <th>75%</th>\n",
       "      <td>NaN</td>\n",
       "      <td>NaN</td>\n",
       "      <td>NaN</td>\n",
       "      <td>NaN</td>\n",
       "      <td>NaN</td>\n",
       "      <td>NaN</td>\n",
       "      <td>NaN</td>\n",
       "      <td>NaN</td>\n",
       "      <td>NaN</td>\n",
       "      <td>NaN</td>\n",
       "      <td>...</td>\n",
       "      <td>NaN</td>\n",
       "      <td>40.000000</td>\n",
       "      <td>NaN</td>\n",
       "      <td>NaN</td>\n",
       "      <td>2016.000000</td>\n",
       "      <td>NaN</td>\n",
       "      <td>NaN</td>\n",
       "      <td>39.139843</td>\n",
       "      <td>-77.039162</td>\n",
       "      <td>NaN</td>\n",
       "    </tr>\n",
       "    <tr>\n",
       "      <th>max</th>\n",
       "      <td>NaN</td>\n",
       "      <td>NaN</td>\n",
       "      <td>NaN</td>\n",
       "      <td>NaN</td>\n",
       "      <td>NaN</td>\n",
       "      <td>NaN</td>\n",
       "      <td>NaN</td>\n",
       "      <td>NaN</td>\n",
       "      <td>NaN</td>\n",
       "      <td>NaN</td>\n",
       "      <td>...</td>\n",
       "      <td>NaN</td>\n",
       "      <td>75.000000</td>\n",
       "      <td>NaN</td>\n",
       "      <td>NaN</td>\n",
       "      <td>9999.000000</td>\n",
       "      <td>NaN</td>\n",
       "      <td>NaN</td>\n",
       "      <td>39.990414</td>\n",
       "      <td>-75.527708</td>\n",
       "      <td>NaN</td>\n",
       "    </tr>\n",
       "  </tbody>\n",
       "</table>\n",
       "<p>11 rows × 39 columns</p>\n",
       "</div>"
      ],
      "text/plain": [
       "       Report Number Local Case Number               Agency Name  \\\n",
       "count         196043            196043                    196043   \n",
       "unique        110416            110307                        10   \n",
       "top      MCP229800RC         200022715  Montgomery County Police   \n",
       "freq              10                10                    138376   \n",
       "mean             NaN               NaN                       NaN   \n",
       "std              NaN               NaN                       NaN   \n",
       "min              NaN               NaN                       NaN   \n",
       "25%              NaN               NaN                       NaN   \n",
       "50%              NaN               NaN                       NaN   \n",
       "75%              NaN               NaN                       NaN   \n",
       "max              NaN               NaN                       NaN   \n",
       "\n",
       "             ACRS Report Type   Crash Date/Time        Route Type  \\\n",
       "count                  196043            196043            176889   \n",
       "unique                      3            107722                19   \n",
       "top     Property Damage Crash  12-10-2018 18:10  Maryland (State)   \n",
       "freq                   125433                11             77077   \n",
       "mean                      NaN               NaN               NaN   \n",
       "std                       NaN               NaN               NaN   \n",
       "min                       NaN               NaN               NaN   \n",
       "25%                       NaN               NaN               NaN   \n",
       "50%                       NaN               NaN               NaN   \n",
       "75%                       NaN               NaN               NaN   \n",
       "max                       NaN               NaN               NaN   \n",
       "\n",
       "          Road Name Cross-Street Name Off-Road Description Municipality  ...  \\\n",
       "count        174842            165057                18116        19126  ...   \n",
       "unique         4523              7369                12904           20  ...   \n",
       "top     GEORGIA AVE       GEORGIA AVE          PARKING LOT    ROCKVILLE  ...   \n",
       "freq          11407              2263                  132         9320  ...   \n",
       "mean            NaN               NaN                  NaN          NaN  ...   \n",
       "std             NaN               NaN                  NaN          NaN  ...   \n",
       "min             NaN               NaN                  NaN          NaN  ...   \n",
       "25%             NaN               NaN                  NaN          NaN  ...   \n",
       "50%             NaN               NaN                  NaN          NaN  ...   \n",
       "75%             NaN               NaN                  NaN          NaN  ...   \n",
       "max             NaN               NaN                  NaN          NaN  ...   \n",
       "\n",
       "       Vehicle Going Dir    Speed Limit Driverless Vehicle Parked Vehicle  \\\n",
       "count             189211  196043.000000             196043         194516   \n",
       "unique                10            NaN                  2              2   \n",
       "top                North            NaN                 No             No   \n",
       "freq               47647            NaN             195296         191338   \n",
       "mean                 NaN      32.294752                NaN            NaN   \n",
       "std                  NaN      11.239418                NaN            NaN   \n",
       "min                  NaN       0.000000                NaN            NaN   \n",
       "25%                  NaN      25.000000                NaN            NaN   \n",
       "50%                  NaN      35.000000                NaN            NaN   \n",
       "75%                  NaN      40.000000                NaN            NaN   \n",
       "max                  NaN      75.000000                NaN            NaN   \n",
       "\n",
       "         Vehicle Year Vehicle Make Vehicle Model       Latitude  \\\n",
       "count   196043.000000       195366        195324  196043.000000   \n",
       "unique            NaN         1951          7061            NaN   \n",
       "top               NaN       TOYOTA            4S            NaN   \n",
       "freq              NaN        27716         13753            NaN   \n",
       "mean      1965.607856          NaN           NaN      39.083082   \n",
       "std        340.601247          NaN           NaN       0.071869   \n",
       "min          0.000000          NaN           NaN      37.720000   \n",
       "25%       2006.000000          NaN           NaN      39.024429   \n",
       "50%       2012.000000          NaN           NaN      39.074875   \n",
       "75%       2016.000000          NaN           NaN      39.139843   \n",
       "max       9999.000000          NaN           NaN      39.990414   \n",
       "\n",
       "            Longitude           Location  \n",
       "count   196043.000000             196043  \n",
       "unique            NaN             109561  \n",
       "top               NaN  (38.953, -77.338)  \n",
       "freq              NaN                 45  \n",
       "mean       -77.112164                NaN  \n",
       "std          0.098254                NaN  \n",
       "min        -79.486000                NaN  \n",
       "25%        -77.189392                NaN  \n",
       "50%        -77.105265                NaN  \n",
       "75%        -77.039162                NaN  \n",
       "max        -75.527708                NaN  \n",
       "\n",
       "[11 rows x 39 columns]"
      ]
     },
     "execution_count": 9,
     "metadata": {},
     "output_type": "execute_result"
    }
   ],
   "source": [
    "# Print the All the statistical values \n",
    "df.describe(include = 'all')"
   ]
  },
  {
   "cell_type": "markdown",
   "id": "6ccbe186",
   "metadata": {},
   "source": [
    "---"
   ]
  },
  {
   "cell_type": "markdown",
   "id": "fa54c025",
   "metadata": {},
   "source": [
    "### Checking Duplicates"
   ]
  },
  {
   "cell_type": "code",
   "execution_count": 10,
   "id": "0b500c07",
   "metadata": {},
   "outputs": [
    {
     "name": "stdout",
     "output_type": "stream",
     "text": [
      "Number of duplicate rows: 0\n"
     ]
    }
   ],
   "source": [
    "# Count the number of duplicate rows in the Dataframe\n",
    "duplicate_values = df.duplicated().sum()\n",
    "# Print the total number of duplicate rows found\n",
    "print(f\"Number of duplicate rows: {duplicate_values}\")"
   ]
  },
  {
   "cell_type": "markdown",
   "id": "34727cdc",
   "metadata": {},
   "source": [
    "### Checking the Uniqueness"
   ]
  },
  {
   "cell_type": "code",
   "execution_count": 11,
   "id": "9e3c38c2",
   "metadata": {},
   "outputs": [
    {
     "data": {
      "text/plain": [
       "Person ID                        196043\n",
       "Vehicle ID                       196043\n",
       "Report Number                    110416\n",
       "Local Case Number                110307\n",
       "Location                         109561\n",
       "Crash Date/Time                  107722\n",
       "Longitude                         99976\n",
       "Latitude                          97822\n",
       "Off-Road Description              12904\n",
       "Cross-Street Name                  7369\n",
       "Vehicle Model                      7061\n",
       "Road Name                          4523\n",
       "Vehicle Make                       1951\n",
       "Circumstance                        667\n",
       "Vehicle Year                        145\n",
       "Drivers License State                79\n",
       "Vehicle Body Type                    59\n",
       "Vehicle Movement                     36\n",
       "Vehicle First Impact Location        33\n",
       "Traffic Control                      32\n",
       "Collision Type                       28\n",
       "Related Non-Motorist                 28\n",
       "Non-Motorist Substance Abuse         25\n",
       "Driver Distracted By                 24\n",
       "Weather                              22\n",
       "Surface Condition                    21\n",
       "Municipality                         20\n",
       "Driver Substance Abuse               20\n",
       "Route Type                           19\n",
       "Speed Limit                          16\n",
       "Light                                16\n",
       "Vehicle Damage Extent                12\n",
       "Vehicle Going Dir                    10\n",
       "Agency Name                          10\n",
       "Injury Severity                      10\n",
       "ACRS Report Type                      3\n",
       "Driver At Fault                       3\n",
       "Driverless Vehicle                    2\n",
       "Parked Vehicle                        2\n",
       "dtype: int64"
      ]
     },
     "execution_count": 11,
     "metadata": {},
     "output_type": "execute_result"
    }
   ],
   "source": [
    "# Check the number of unique values\n",
    "df.nunique().sort_values(ascending= False)"
   ]
  },
  {
   "cell_type": "markdown",
   "id": "9a9cb2e5",
   "metadata": {},
   "source": [
    "---"
   ]
  },
  {
   "cell_type": "markdown",
   "id": "aa8e62df",
   "metadata": {},
   "source": [
    "# 3"
   ]
  },
  {
   "cell_type": "markdown",
   "id": "fffa6a5b",
   "metadata": {},
   "source": [
    "## Data Handling"
   ]
  },
  {
   "cell_type": "markdown",
   "id": "34aa4e54",
   "metadata": {},
   "source": [
    "### Handling Missing Values"
   ]
  },
  {
   "cell_type": "code",
   "execution_count": 12,
   "id": "68d6804b-a2f6-425d-91bb-fc50ee6e5632",
   "metadata": {},
   "outputs": [
    {
     "name": "stdout",
     "output_type": "stream",
     "text": [
      "Missing values in each column:\n",
      " Non-Motorist Substance Abuse     190861\n",
      "Related Non-Motorist             189715\n",
      "Off-Road Description             177927\n",
      "Municipality                     176917\n",
      "Circumstance                     158628\n",
      "Driver Substance Abuse            31320\n",
      "Cross-Street Name                 30986\n",
      "Traffic Control                   27607\n",
      "Surface Condition                 22403\n",
      "Road Name                         21201\n",
      "Route Type                        19154\n",
      "Weather                           13356\n",
      "Drivers License State             12647\n",
      "Vehicle Going Dir                  6832\n",
      "Vehicle Body Type                  2937\n",
      "Driver Distracted By               1645\n",
      "Parked Vehicle                     1527\n",
      "Injury Severity                    1523\n",
      "Light                              1445\n",
      "Vehicle Movement                   1169\n",
      "Vehicle Model                       719\n",
      "Vehicle Make                        677\n",
      "Collision Type                      585\n",
      "Vehicle Damage Extent               316\n",
      "Vehicle First Impact Location       156\n",
      "dtype: int64\n"
     ]
    }
   ],
   "source": [
    "# Calculate the total number of missing (null) values in each column of the Dataframe \n",
    "missing_values_columns = df.isnull().sum()\n",
    "# Filter columns that have more than 0 missing values and sort them in descending order\n",
    "missing = missing_values_columns[missing_values_columns > 0].sort_values(ascending=False)\n",
    "# Print the columns with missing values and the corresponding count for each\n",
    "print(\"Missing values in each column:\\n\", missing)"
   ]
  },
  {
   "cell_type": "code",
   "execution_count": 13,
   "id": "71d4e83a-f554-4e46-833d-a5edee8d1473",
   "metadata": {},
   "outputs": [
    {
     "name": "stdout",
     "output_type": "stream",
     "text": [
      "Missing Values in the each Row: Vehicle First Impact Location       156\n",
      "Vehicle Damage Extent               316\n",
      "Collision Type                      585\n",
      "Vehicle Make                        677\n",
      "Vehicle Model                       719\n",
      "Vehicle Movement                   1169\n",
      "Light                              1445\n",
      "Injury Severity                    1523\n",
      "Parked Vehicle                     1527\n",
      "Driver Distracted By               1645\n",
      "Vehicle Body Type                  2937\n",
      "Vehicle Going Dir                  6832\n",
      "Drivers License State             12647\n",
      "Weather                           13356\n",
      "Route Type                        19154\n",
      "Road Name                         21201\n",
      "Surface Condition                 22403\n",
      "Traffic Control                   27607\n",
      "Cross-Street Name                 30986\n",
      "Driver Substance Abuse            31320\n",
      "Circumstance                     158628\n",
      "Municipality                     176917\n",
      "Off-Road Description             177927\n",
      "Related Non-Motorist             189715\n",
      "Non-Motorist Substance Abuse     190861\n",
      "dtype: int64\n"
     ]
    }
   ],
   "source": [
    "# Calculate the total number of missing (null) values in each column of the Dataframe\n",
    "missing_values_rows = df.isnull().sum()\n",
    "# Filter columns that have more than 0 missing values and sort them in ascending order\n",
    "missing_values = missing_values_rows[missing_values_rows > 0].sort_values(ascending= True)\n",
    "# Print the columns with missing values and the corresponding count for each\n",
    "print(\"Missing Values in the each Row:\" , missing_values)"
   ]
  },
  {
   "cell_type": "markdown",
   "id": "26cd3ac3",
   "metadata": {},
   "source": [
    "---"
   ]
  },
  {
   "cell_type": "markdown",
   "id": "fe608ebb",
   "metadata": {},
   "source": [
    "###  Maximum and Minimum Value of Columns"
   ]
  },
  {
   "cell_type": "code",
   "execution_count": 14,
   "id": "aa5883bc",
   "metadata": {},
   "outputs": [
    {
     "name": "stdout",
     "output_type": "stream",
     "text": [
      "Speed Limit: Min = 0, Max = 75, Range = 75\n",
      "Vehicle Year: Min = 0, Max = 9999, Range = 9999\n",
      "Latitude: Min = 37.72, Max = 39.990414, Range = 2.2704140000000024\n",
      "Longitude: Min = -79.486, Max = -75.52770787, Range = 3.958292130000004\n"
     ]
    }
   ],
   "source": [
    "# Select columns in the Dataframe that have numeric data types (int64 or float64)\n",
    "numeric_cols = df.select_dtypes(include=['int64', 'float64']).columns\n",
    "# Loop through each numeric column to calculate and display its minimum, maximum, and range values\n",
    "for col in numeric_cols:\n",
    "    col_min = df[col].min()  # Find the minimum value in the column\n",
    "    col_max = df[col].max()  # Find the maximum value in the column\n",
    "    # Calculate the range (difference between max and min)\n",
    "    col_range = col_max - col_min\n",
    "     # Print the results for the current column\n",
    "    print(f\"{col}: Min = {col_min}, Max = {col_max}, Range = {col_range}\")\n"
   ]
  },
  {
   "cell_type": "markdown",
   "id": "833c34b2",
   "metadata": {},
   "source": [
    "---"
   ]
  },
  {
   "cell_type": "markdown",
   "id": "faaedcfa",
   "metadata": {},
   "source": [
    "### Handling the Data Type 'Object'"
   ]
  },
  {
   "cell_type": "code",
   "execution_count": 15,
   "id": "b93bf2a4",
   "metadata": {},
   "outputs": [
    {
     "name": "stdout",
     "output_type": "stream",
     "text": [
      "All the String values in the data set\n",
      "['Report Number', 'Local Case Number', 'Agency Name', 'ACRS Report Type', 'Crash Date/Time', 'Route Type', 'Road Name', 'Cross-Street Name', 'Off-Road Description', 'Municipality', 'Related Non-Motorist', 'Collision Type', 'Weather', 'Surface Condition', 'Light', 'Traffic Control', 'Driver Substance Abuse', 'Non-Motorist Substance Abuse', 'Person ID', 'Driver At Fault', 'Injury Severity', 'Circumstance', 'Driver Distracted By', 'Drivers License State', 'Vehicle ID', 'Vehicle Damage Extent', 'Vehicle First Impact Location', 'Vehicle Body Type', 'Vehicle Movement', 'Vehicle Going Dir', 'Driverless Vehicle', 'Parked Vehicle', 'Vehicle Make', 'Vehicle Model', 'Location']\n"
     ]
    }
   ],
   "source": [
    "# Convert all columns with 'object' data type (typically mixed types) to the pandas 'string' data type\n",
    "df[df.select_dtypes(include = 'object').columns] = df.select_dtypes(include= 'object').astype(\"string\")\n",
    "\n",
    "# Select columns in the DataFrame 'df' that are now of the 'string' data type\n",
    "string_cols = df.select_dtypes(include= \"string\").columns\n",
    "# Print a message indicating that the following are all string columns in the dataset\n",
    "print(\"All the String values in the data set\")\n",
    "\n",
    "# Print the list of column names that have the 'string' data type\n",
    "print(string_cols.tolist())"
   ]
  },
  {
   "cell_type": "code",
   "execution_count": 16,
   "id": "f81fb6bd",
   "metadata": {},
   "outputs": [
    {
     "name": "stdout",
     "output_type": "stream",
     "text": [
      "['Report Number', 'Local Case Number', 'Agency Name', 'ACRS Report Type', 'Crash Date/Time', 'Route Type', 'Road Name', 'Cross-Street Name', 'Off-Road Description', 'Municipality', 'Related Non-Motorist', 'Collision Type', 'Weather', 'Surface Condition', 'Light', 'Traffic Control', 'Driver Substance Abuse', 'Non-Motorist Substance Abuse', 'Person ID', 'Driver At Fault', 'Injury Severity', 'Circumstance', 'Driver Distracted By', 'Drivers License State', 'Vehicle ID', 'Vehicle Damage Extent', 'Vehicle First Impact Location', 'Vehicle Body Type', 'Vehicle Movement', 'Vehicle Going Dir', 'Speed Limit', 'Driverless Vehicle', 'Parked Vehicle', 'Vehicle Year', 'Vehicle Make', 'Vehicle Model', 'Latitude', 'Longitude', 'Location']\n"
     ]
    }
   ],
   "source": [
    "# Checking the final columns present in the data set\n",
    "print(df.columns.tolist())"
   ]
  },
  {
   "cell_type": "markdown",
   "id": "82649f88",
   "metadata": {},
   "source": [
    "---"
   ]
  },
  {
   "cell_type": "markdown",
   "id": "9a855654",
   "metadata": {},
   "source": [
    "### Delecting the Reduntant Columns"
   ]
  },
  {
   "cell_type": "code",
   "execution_count": 17,
   "id": "e9013c0c",
   "metadata": {},
   "outputs": [],
   "source": [
    "# Drop the specified columns from the Dataframe as they are not needed for further analysis\n",
    "df = df.drop(columns=['Municipality', 'Cross-Street Name', 'Road Name', 'Off-Road Description', 'Non-Motorist Substance Abuse', 'Circumstance', 'Related Non-Motorist'])"
   ]
  },
  {
   "cell_type": "code",
   "execution_count": 18,
   "id": "98681db6",
   "metadata": {},
   "outputs": [
    {
     "name": "stdout",
     "output_type": "stream",
     "text": [
      "['Report Number', 'Local Case Number', 'Agency Name', 'ACRS Report Type', 'Crash Date/Time', 'Route Type', 'Collision Type', 'Weather', 'Surface Condition', 'Light', 'Traffic Control', 'Driver Substance Abuse', 'Person ID', 'Driver At Fault', 'Injury Severity', 'Driver Distracted By', 'Drivers License State', 'Vehicle ID', 'Vehicle Damage Extent', 'Vehicle First Impact Location', 'Vehicle Body Type', 'Vehicle Movement', 'Vehicle Going Dir', 'Speed Limit', 'Driverless Vehicle', 'Parked Vehicle', 'Vehicle Year', 'Vehicle Make', 'Vehicle Model', 'Latitude', 'Longitude', 'Location']\n",
      "  Report Number Local Case Number                Agency Name  \\\n",
      "0    DM8479000T         210020119  Takoma Park Police Depart   \n",
      "1   MCP2970000R          15045937                 MONTGOMERY   \n",
      "2   MCP20160036         180040948   Montgomery County Police   \n",
      "3    EJ7879003C         230048975  Gaithersburg Police Depar   \n",
      "4   MCP2967004Y         230070277   Montgomery County Police   \n",
      "\n",
      "        ACRS Report Type         Crash Date/Time        Route Type  \\\n",
      "0  Property Damage Crash  05/27/2021 07:40:00 PM              <NA>   \n",
      "1  Property Damage Crash        09-11-2015 13:29              <NA>   \n",
      "2  Property Damage Crash  08/17/2018 02:25:00 PM              <NA>   \n",
      "3           Injury Crash        08-11-2023 18:00              <NA>   \n",
      "4  Property Damage Crash        12-06-2023 18:42  Maryland (State)   \n",
      "\n",
      "            Collision Type Weather Surface Condition           Light  ...  \\\n",
      "0                    OTHER   CLEAR              <NA>        DAYLIGHT  ...   \n",
      "1                    OTHER   CLEAR              <NA>        DAYLIGHT  ...   \n",
      "2                    OTHER   CLEAR              <NA>        DAYLIGHT  ...   \n",
      "3           SINGLE VEHICLE   CLEAR              <NA>        DAYLIGHT  ...   \n",
      "4  STRAIGHT MOVEMENT ANGLE   CLEAR               DRY  DARK LIGHTS ON  ...   \n",
      "\n",
      "  Vehicle Going Dir Speed Limit Driverless Vehicle Parked Vehicle  \\\n",
      "0              <NA>           0                 No            Yes   \n",
      "1             South           5                 No             No   \n",
      "2              West          15                 No             No   \n",
      "3           Unknown          15                 No             No   \n",
      "4             South          35                 No             No   \n",
      "\n",
      "  Vehicle Year Vehicle Make Vehicle Model   Latitude  Longitude  \\\n",
      "0         2017         HINO           TWK  38.987657 -76.987545   \n",
      "1         2012       TOYOTA            SU  39.039917 -77.053649   \n",
      "2         2015         MAZD            TK  38.743373 -77.546997   \n",
      "3         2018          RAM            TK  39.145873 -77.191940   \n",
      "4         2017         AUDI            A3  39.025170 -77.076333   \n",
      "\n",
      "                      Location  \n",
      "0    (38.98765667, -76.987545)  \n",
      "1  (39.03991652, -77.05364898)  \n",
      "2    (38.743373, -77.54699707)  \n",
      "3  (39.14587303, -77.19194047)  \n",
      "4  (39.02517017, -77.07633333)  \n",
      "\n",
      "[5 rows x 32 columns]\n"
     ]
    }
   ],
   "source": [
    "#Checking the column present in the data set after dropping the columns and Displaying \n",
    "print(df.columns.tolist())\n",
    "print(df.head())"
   ]
  },
  {
   "cell_type": "markdown",
   "id": "f33a95ad",
   "metadata": {},
   "source": [
    "---"
   ]
  },
  {
   "cell_type": "markdown",
   "id": "f7515920",
   "metadata": {},
   "source": [
    "### Handling the Column 'Crash Date/Time'"
   ]
  },
  {
   "cell_type": "code",
   "execution_count": 19,
   "id": "a137a49c",
   "metadata": {},
   "outputs": [
    {
     "name": "stdout",
     "output_type": "stream",
     "text": [
      "<StringArray>\n",
      "['05/27/2021 07:40:00 PM',       '09-11-2015 13:29', '08/17/2018 02:25:00 PM',\n",
      "       '08-11-2023 18:00',       '12-06-2023 18:42', '08/28/2023 11:09:00 AM',\n",
      " '07/27/2023 12:30:00 PM', '12/29/2023 04:40:00 PM',       '11-10-2023 20:24',\n",
      " '10/16/2023 07:33:00 PM']\n",
      "Length: 10, dtype: string\n"
     ]
    }
   ],
   "source": [
    "# Print the first 10 unique, non-missing values from the 'Crash Date/Time' column in the Dataframe\n",
    "print(df['Crash Date/Time'].dropna().unique()[:10])"
   ]
  },
  {
   "cell_type": "code",
   "execution_count": 20,
   "id": "712be12c",
   "metadata": {},
   "outputs": [
    {
     "name": "stdout",
     "output_type": "stream",
     "text": [
      "      Crash Date/Time  Crash Date Crash Time\n",
      "0 2021-05-27 19:40:00  2021-05-27   19:40:00\n",
      "1 2015-09-11 13:29:00  2015-09-11   13:29:00\n",
      "2 2018-08-17 14:25:00  2018-08-17   14:25:00\n",
      "3 2023-08-11 18:00:00  2023-08-11   18:00:00\n",
      "4 2023-12-06 18:42:00  2023-12-06   18:42:00\n"
     ]
    }
   ],
   "source": [
    "# Define a function to parse various date/time formats in the 'Crash Date/Time' column\n",
    "def parse_crash_datetime(value):\n",
    "    formats = [\n",
    "        \"%m/%d/%Y %I:%M:%S %p\",  # 08/17/2018 02:25:00 PM\n",
    "        \"%m-%d-%Y %H:%M\",        # 08-11-2023 18:00\n",
    "        \"%m-%d-%Y %H:%M:%S\",     # 12-06-2023 18:42 (with seconds)\n",
    "        \"%m/%d/%Y %H:%M:%S\",     # 08/28/2023 11:09:00\n",
    "        \"%m/%d/%Y %I:%M %p\",     # 07/27/2023 12:30 PM (rare case)\n",
    "    ]\n",
    "    for fmt in formats:\n",
    "        try:\n",
    "            return datetime.strptime(value, fmt) # Try to parse the date using the current format\n",
    "        except:\n",
    "            continue\n",
    "    try:\n",
    "         # Fallback: use dateutil's parser for any other format\n",
    "        return parser.parse(value)\n",
    "    except:\n",
    "        return pd.NaT # If all parsing fails, return a missing value\n",
    "    \n",
    "# Convert the 'Crash Date/Time' column to string and apply the parsing function to each value\n",
    "df['Crash Date/Time'] = df['Crash Date/Time'].astype(str).apply(parse_crash_datetime)\n",
    "\n",
    "# Extract only the date part and store it in a new column 'Crash Date'\n",
    "df['Crash Date'] = df['Crash Date/Time'].dt.date\n",
    "\n",
    "# Extract only the time part and store it in a new column 'Crash Time'\n",
    "df['Crash Time'] = df['Crash Date/Time'].dt.time\n",
    "\n",
    "# Extract the hour from the datetime and store it in a new column 'Hour'\n",
    "df['Hour'] = df['Crash Date/Time'].dt.hour\n",
    "\n",
    "# Extract the weekday name (e.g., Monday, Tuesday) and store it in a new column 'Weekday'\n",
    "df['Weekday'] = df['Crash Date/Time'].dt.day_name()\n",
    "\n",
    "# Print the first few rows of the relevant columns to verify the results\n",
    "print(df[['Crash Date/Time', 'Crash Date', 'Crash Time']].head())"
   ]
  },
  {
   "cell_type": "code",
   "execution_count": 21,
   "id": "2d6036a2",
   "metadata": {},
   "outputs": [
    {
     "name": "stdout",
     "output_type": "stream",
     "text": [
      "Index(['Report Number', 'Local Case Number', 'Agency Name', 'ACRS Report Type',\n",
      "       'Route Type', 'Collision Type', 'Weather', 'Surface Condition', 'Light',\n",
      "       'Traffic Control', 'Driver Substance Abuse', 'Person ID',\n",
      "       'Driver At Fault', 'Injury Severity', 'Driver Distracted By',\n",
      "       'Drivers License State', 'Vehicle ID', 'Vehicle Damage Extent',\n",
      "       'Vehicle First Impact Location', 'Vehicle Body Type',\n",
      "       'Vehicle Movement', 'Vehicle Going Dir', 'Driverless Vehicle',\n",
      "       'Parked Vehicle', 'Vehicle Make', 'Vehicle Model', 'Location'],\n",
      "      dtype='object')\n",
      "Report Number                    0\n",
      "Local Case Number                0\n",
      "Agency Name                      0\n",
      "ACRS Report Type                 0\n",
      "Route Type                       0\n",
      "Collision Type                   0\n",
      "Weather                          0\n",
      "Surface Condition                0\n",
      "Light                            0\n",
      "Traffic Control                  0\n",
      "Driver Substance Abuse           0\n",
      "Person ID                        0\n",
      "Driver At Fault                  0\n",
      "Injury Severity                  0\n",
      "Driver Distracted By             0\n",
      "Drivers License State            0\n",
      "Vehicle ID                       0\n",
      "Vehicle Damage Extent            0\n",
      "Vehicle First Impact Location    0\n",
      "Vehicle Body Type                0\n",
      "Vehicle Movement                 0\n",
      "Vehicle Going Dir                0\n",
      "Driverless Vehicle               0\n",
      "Parked Vehicle                   0\n",
      "Vehicle Make                     0\n",
      "Vehicle Model                    0\n",
      "Location                         0\n",
      "dtype: int64\n",
      "Report Number                    0\n",
      "Local Case Number                0\n",
      "Agency Name                      0\n",
      "ACRS Report Type                 0\n",
      "Crash Date/Time                  0\n",
      "Route Type                       0\n",
      "Collision Type                   0\n",
      "Weather                          0\n",
      "Surface Condition                0\n",
      "Light                            0\n",
      "Traffic Control                  0\n",
      "Driver Substance Abuse           0\n",
      "Person ID                        0\n",
      "Driver At Fault                  0\n",
      "Injury Severity                  0\n",
      "Driver Distracted By             0\n",
      "Drivers License State            0\n",
      "Vehicle ID                       0\n",
      "Vehicle Damage Extent            0\n",
      "Vehicle First Impact Location    0\n",
      "Vehicle Body Type                0\n",
      "Vehicle Movement                 0\n",
      "Vehicle Going Dir                0\n",
      "Speed Limit                      0\n",
      "Driverless Vehicle               0\n",
      "Parked Vehicle                   0\n",
      "Vehicle Year                     0\n",
      "Vehicle Make                     0\n",
      "Vehicle Model                    0\n",
      "Latitude                         0\n",
      "Longitude                        0\n",
      "Location                         0\n",
      "Crash Date                       0\n",
      "Crash Time                       0\n",
      "Hour                             0\n",
      "Weekday                          0\n",
      "dtype: int64\n"
     ]
    }
   ],
   "source": [
    "# Select all columns in the Dataframe that have the pandas 'string' data type\n",
    "string_column = df.select_dtypes(include='string').columns\n",
    "\n",
    "# Print the names of all string columns\n",
    "print(string_column)\n",
    "\n",
    "# Fill missing values (NaN) in string columns with the placeholder \"NA\"\n",
    "df[string_column] = df[string_column].fillna(\"NA\")\n",
    "\n",
    "# Print the count of missing values in each string column to verify they have been filled\n",
    "print(df[string_column].isnull().sum())\n",
    "\n",
    "# Fill any remaining missing values in the entire DataFrame with \"NA\"\n",
    "df = df.fillna(\"NA\")\n",
    "\n",
    "# Print the count of missing values in each column to confirm all NaNs are handled\n",
    "print(df.isnull().sum())"
   ]
  },
  {
   "cell_type": "code",
   "execution_count": 22,
   "id": "402adf5e",
   "metadata": {},
   "outputs": [
    {
     "name": "stdout",
     "output_type": "stream",
     "text": [
      "['Report Number', 'Local Case Number', 'Agency Name', 'ACRS Report Type', 'Crash Date/Time', 'Route Type', 'Collision Type', 'Weather', 'Surface Condition', 'Light', 'Traffic Control', 'Driver Substance Abuse', 'Person ID', 'Driver At Fault', 'Injury Severity', 'Driver Distracted By', 'Drivers License State', 'Vehicle ID', 'Vehicle Damage Extent', 'Vehicle First Impact Location', 'Vehicle Body Type', 'Vehicle Movement', 'Vehicle Going Dir', 'Speed Limit', 'Driverless Vehicle', 'Parked Vehicle', 'Vehicle Year', 'Vehicle Make', 'Vehicle Model', 'Latitude', 'Longitude', 'Location', 'Crash Date', 'Crash Time', 'Hour', 'Weekday']\n",
      "True\n"
     ]
    }
   ],
   "source": [
    "# Checking the columns present in the data frame \n",
    "print(df.columns.tolist())\n",
    "\n",
    "# Checking If the column 'Crash Date/Time' present in the Dataframe\n",
    "print('Crash Date/Time' in df.columns)"
   ]
  },
  {
   "cell_type": "markdown",
   "id": "8ae228c1",
   "metadata": {},
   "source": [
    "---"
   ]
  },
  {
   "cell_type": "markdown",
   "id": "e49acffc",
   "metadata": {},
   "source": [
    "# 4\n",
    "\n",
    "## Data Analysis"
   ]
  },
  {
   "cell_type": "markdown",
   "id": "7f39f7f9",
   "metadata": {},
   "source": [
    "## GOAL\n",
    "### Research_Question_1:\n",
    "## **How do weather and surface conditions affect the severity of traffic crashes and driver responsibility?**\n",
    "\n",
    "\n",
    "The analysis explores the influence of **weather conditions** and **road surface conditions** on two critical aspects of traffic crashes:\n",
    "\n",
    "1. **Injury Severity**\n",
    "2. **Drivers at fault**"
   ]
  },
  {
   "cell_type": "code",
   "execution_count": 23,
   "id": "bff8831c",
   "metadata": {},
   "outputs": [
    {
     "name": "stdout",
     "output_type": "stream",
     "text": [
      "  Report Number Local Case Number                Agency Name  \\\n",
      "0    DM8479000T         210020119  Takoma Park Police Depart   \n",
      "1   MCP2970000R          15045937                 MONTGOMERY   \n",
      "2   MCP20160036         180040948   Montgomery County Police   \n",
      "3    EJ7879003C         230048975  Gaithersburg Police Depar   \n",
      "4   MCP2967004Y         230070277   Montgomery County Police   \n",
      "\n",
      "        ACRS Report Type   Crash Date/Time        Route Type  \\\n",
      "0  Property Damage Crash  27-05-2021 19:40               NaN   \n",
      "1  Property Damage Crash  11-09-2015 13:29               NaN   \n",
      "2  Property Damage Crash  17-08-2018 14:25               NaN   \n",
      "3           Injury Crash  11-08-2023 18:00               NaN   \n",
      "4  Property Damage Crash  06-12-2023 18:42  Maryland (State)   \n",
      "\n",
      "            Collision Type Weather Surface Condition           Light  ...  \\\n",
      "0                    OTHER   CLEAR               NaN        DAYLIGHT  ...   \n",
      "1                    OTHER   CLEAR               NaN        DAYLIGHT  ...   \n",
      "2                    OTHER   CLEAR               NaN        DAYLIGHT  ...   \n",
      "3           SINGLE VEHICLE   CLEAR               NaN        DAYLIGHT  ...   \n",
      "4  STRAIGHT MOVEMENT ANGLE   CLEAR               DRY  DARK LIGHTS ON  ...   \n",
      "\n",
      "  Vehicle Year Vehicle Make Vehicle Model   Latitude  Longitude  \\\n",
      "0         2017         HINO           TWK  38.987657 -76.987545   \n",
      "1         2012       TOYOTA            SU  39.039917 -77.053649   \n",
      "2         2015         MAZD            TK  38.743373 -77.546997   \n",
      "3         2018          RAM            TK  39.145873 -77.191940   \n",
      "4         2017         AUDI            A3  39.025170 -77.076333   \n",
      "\n",
      "                      Location  Crash Date Crash Time Hour    Weekday  \n",
      "0    (38.98765667, -76.987545)  27-05-2021   19:40:00   19   Thursday  \n",
      "1  (39.03991652, -77.05364898)  11-09-2015   13:29:00   13     Friday  \n",
      "2    (38.743373, -77.54699707)  17-08-2018   14:25:00   14     Friday  \n",
      "3  (39.14587303, -77.19194047)  11-08-2023   18:00:00   18     Friday  \n",
      "4  (39.02517017, -77.07633333)  06-12-2023   18:42:00   18  Wednesday  \n",
      "\n",
      "[5 rows x 36 columns]\n"
     ]
    }
   ],
   "source": [
    "# Accessing the new Dataset \n",
    "df = pd.read_csv(\"C:/Users/ASUS/OneDrive/Desktop/EDA_Project/Crash_new_dataset2.csv\", low_memory= False)\n",
    "# Showing first 5 rows of every columns in the new data\n",
    "print(df.head())\n",
    "                 "
   ]
  },
  {
   "cell_type": "markdown",
   "id": "535966ab",
   "metadata": {},
   "source": [
    "### Key Visualizations for Analysis\n",
    "\n",
    "**Percentage Bar Graph**\n",
    "- **Injury Severity vs Weather Conditions:**\n",
    "  - Crashes in **clear weather** are most frequent, likely due to higher road usage.\n",
    "  - However, **severe injuries** tend to increase during **rainy** or **snowy** conditions because of reduced visibility and traction.\n",
    "  - 'BLOWING SAND, SOIL, DIRT': 'OTHER' cleaned the data "
   ]
  },
  {
   "cell_type": "code",
   "execution_count": 24,
   "id": "92d45abb",
   "metadata": {},
   "outputs": [],
   "source": [
    "for col in ['Surface Condition', 'Weather', 'Injury Severity']:\n",
    "    df[col] = df[col].astype(str).str.upper().str.strip()\n",
    "\n",
    "# Merge similar values for Surface Condition\n",
    "surface_map = {\n",
    "    'ICE/FROST': 'ICE',\n",
    "    'WATER (STANDING, MOVING)': 'WATER(STANDING/MOVING)',\n",
    "    'MUD, DIRT, GRAVEL': 'MUD, DIRT, GRAVEL',  # keep as is\n",
    "    'DRY': 'DRY', 'WET': 'WET', 'SLUSH': 'SLUSH', 'SNOW': 'SNOW',\n",
    "    'OIL': 'OIL', 'SAND': 'SAND', 'OTHER': 'OTHER', 'UNKNOWN': 'UNKNOWN'\n",
    "}\n",
    "df['Surface Condition'] = df['Surface Condition'].replace(surface_map)\n",
    "\n",
    "# Merge similar values for Weather\n",
    "weather_map = {\n",
    "    'RAINING': 'RAIN',\n",
    "    'FOGGY': 'FOG, SMOG, SMOKE',\n",
    "    'SEVERE WINDS': 'SEVERE CROSSWINDS',\n",
    "    'SLEET': 'SLEET OR HAIL',\n",
    "    'CLEAR': 'CLEAR', 'CLOUDY': 'CLOUDY', 'SNOW': 'SNOW',\n",
    "    'OTHER': 'OTHER', 'UNKNOWN': 'UNKNOWN',\n",
    "    'WINTRY MIX': 'FREEZING RAIN OR FREEZING DRIZZLE',\n",
    "    'BLOWING SNOW': 'BLOWING SNOW',\n",
    "    'BLOWING SAND, SOIL, DIRT': 'OTHER',  # grouped into 'OTHER'\n",
    "}\n",
    "df['Weather'] = df['Weather'].replace(weather_map)"
   ]
  },
  {
   "cell_type": "code",
   "execution_count": 25,
   "id": "6a7ac8bc",
   "metadata": {},
   "outputs": [
    {
     "name": "stdout",
     "output_type": "stream",
     "text": [
      "Surface Condition values:\n",
      " ['NAN' 'DRY' 'ICE' 'WET' 'SLUSH' 'UNKNOWN' 'WATER(STANDING/MOVING)' 'SNOW'\n",
      " 'OTHER' 'MUD, DIRT, GRAVEL' 'OIL' 'SAND']\n",
      "\n",
      "Weather values:\n",
      " ['CLEAR' 'CLOUDY' 'RAIN' 'NAN' 'SNOW' 'FOG, SMOG, SMOKE' 'OTHER' 'UNKNOWN'\n",
      " 'FREEZING RAIN OR FREEZING DRIZZLE' 'SEVERE CROSSWINDS' 'SLEET OR HAIL'\n",
      " 'BLOWING SNOW']\n",
      "\n",
      "Injury Severity values:\n",
      " ['NO APPARENT INJURY' 'SUSPECTED MINOR INJURY' 'POSSIBLE INJURY'\n",
      " 'SUSPECTED SERIOUS INJURY' 'FATAL INJURY' 'NAN']\n"
     ]
    }
   ],
   "source": [
    "# Show unique values from each column\n",
    "print(\"Surface Condition values:\\n\", df['Surface Condition'].dropna().unique())\n",
    "print(\"\\nWeather values:\\n\", df['Weather'].dropna().unique())\n",
    "print(\"\\nInjury Severity values:\\n\", df['Injury Severity'].dropna().unique())\n"
   ]
  },
  {
   "cell_type": "markdown",
   "id": "b8459f30",
   "metadata": {},
   "source": [
    "## Displaying Stacked Bar Chart"
   ]
  },
  {
   "cell_type": "code",
   "execution_count": 26,
   "id": "9990a812",
   "metadata": {},
   "outputs": [
    {
     "data": {
      "application/vnd.plotly.v1+json": {
       "config": {
        "plotlyServerURL": "https://plot.ly"
       },
       "data": [
        {
         "alignmentgroup": "True",
         "hovertemplate": "Injury Severity=NAN<br>Weather Condition=%{x}<br>Percentage=%{y}<br>text=%{text}<extra></extra>",
         "legendgroup": "NAN",
         "marker": {
          "color": "#636efa",
          "pattern": {
           "shape": ""
          }
         },
         "name": "NAN",
         "offsetgroup": "NAN",
         "orientation": "v",
         "showlegend": true,
         "text": [
          "1.1%",
          "0.9%",
          "0.5%",
          "0.1%",
          "0.7%",
          "0.5%",
          "1.1%",
          "0.4%",
          "0.8%",
          "7.0%"
         ],
         "textposition": "auto",
         "type": "bar",
         "x": [
          "BLOWING SNOW",
          "CLEAR",
          "CLOUDY",
          "FOG, SMOG, SMOKE",
          "FREEZING RAIN OR FREEZING DRIZZLE",
          "RAIN",
          "SEVERE CROSSWINDS",
          "SLEET OR HAIL",
          "SNOW",
          "UNKNOWN"
         ],
         "xaxis": "x",
         "y": [
          1.1173184357541899,
          0.9063600197804956,
          0.5157829585310502,
          0.1375515818431912,
          0.6787330316742082,
          0.48871204913069805,
          1.1299435028248588,
          0.43478260869565216,
          0.8182349503214494,
          7.032181168057211
         ],
         "yaxis": "y"
        },
        {
         "alignmentgroup": "True",
         "hovertemplate": "Injury Severity=NO APPARENT INJURY<br>Weather Condition=%{x}<br>Percentage=%{y}<br>text=%{text}<extra></extra>",
         "legendgroup": "NO APPARENT INJURY",
         "marker": {
          "color": "#EF553B",
          "pattern": {
           "shape": ""
          }
         },
         "name": "NO APPARENT INJURY",
         "offsetgroup": "NO APPARENT INJURY",
         "orientation": "v",
         "showlegend": true,
         "text": [
          "79.9%",
          "81.5%",
          "80.4%",
          "81.2%",
          "81.2%",
          "83.1%",
          "80.5%",
          "80.9%",
          "80.8%",
          "83.5%",
          "83.2%",
          "89.2%"
         ],
         "textposition": "auto",
         "type": "bar",
         "x": [
          "BLOWING SNOW",
          "CLEAR",
          "CLOUDY",
          "FOG, SMOG, SMOKE",
          "FREEZING RAIN OR FREEZING DRIZZLE",
          "NAN",
          "OTHER",
          "RAIN",
          "SEVERE CROSSWINDS",
          "SLEET OR HAIL",
          "SNOW",
          "UNKNOWN"
         ],
         "xaxis": "x",
         "y": [
          79.88826815642457,
          81.53771210522042,
          80.36414276872293,
          81.15543328748281,
          81.22171945701358,
          83.08625336927223,
          80.51948051948052,
          80.90563100077847,
          80.7909604519774,
          83.47826086956522,
          83.2261835184103,
          89.15375446960667
         ],
         "yaxis": "y"
        },
        {
         "alignmentgroup": "True",
         "hovertemplate": "Injury Severity=POSSIBLE INJURY<br>Weather Condition=%{x}<br>Percentage=%{y}<br>text=%{text}<extra></extra>",
         "legendgroup": "POSSIBLE INJURY",
         "marker": {
          "color": "#00cc96",
          "pattern": {
           "shape": ""
          }
         },
         "name": "POSSIBLE INJURY",
         "offsetgroup": "POSSIBLE INJURY",
         "orientation": "v",
         "showlegend": true,
         "text": [
          "10.1%",
          "9.5%",
          "11.1%",
          "10.0%",
          "8.8%",
          "9.7%",
          "10.6%",
          "10.3%",
          "9.6%",
          "8.3%",
          "8.5%",
          "1.8%"
         ],
         "textposition": "auto",
         "type": "bar",
         "x": [
          "BLOWING SNOW",
          "CLEAR",
          "CLOUDY",
          "FOG, SMOG, SMOKE",
          "FREEZING RAIN OR FREEZING DRIZZLE",
          "NAN",
          "OTHER",
          "RAIN",
          "SEVERE CROSSWINDS",
          "SLEET OR HAIL",
          "SNOW",
          "UNKNOWN"
         ],
         "xaxis": "x",
         "y": [
          10.05586592178771,
          9.485042845439045,
          11.089333608417578,
          10.041265474552958,
          8.823529411764707,
          9.748427672955975,
          10.649350649350648,
          10.349450739555403,
          9.6045197740113,
          8.26086956521739,
          8.47457627118644,
          1.7878426698450536
         ],
         "yaxis": "y"
        },
        {
         "alignmentgroup": "True",
         "hovertemplate": "Injury Severity=SUSPECTED MINOR INJURY<br>Weather Condition=%{x}<br>Percentage=%{y}<br>text=%{text}<extra></extra>",
         "legendgroup": "SUSPECTED MINOR INJURY",
         "marker": {
          "color": "#ab63fa",
          "pattern": {
           "shape": ""
          }
         },
         "name": "SUSPECTED MINOR INJURY",
         "offsetgroup": "SUSPECTED MINOR INJURY",
         "orientation": "v",
         "showlegend": true,
         "text": [
          "8.4%",
          "7.1%",
          "7.0%",
          "7.4%",
          "7.7%",
          "6.4%",
          "8.3%",
          "7.5%",
          "7.9%",
          "6.5%",
          "7.1%",
          "1.7%"
         ],
         "textposition": "auto",
         "type": "bar",
         "x": [
          "BLOWING SNOW",
          "CLEAR",
          "CLOUDY",
          "FOG, SMOG, SMOKE",
          "FREEZING RAIN OR FREEZING DRIZZLE",
          "NAN",
          "OTHER",
          "RAIN",
          "SEVERE CROSSWINDS",
          "SLEET OR HAIL",
          "SNOW",
          "UNKNOWN"
         ],
         "xaxis": "x",
         "y": [
          8.379888268156424,
          7.117288005491301,
          7.019806065607592,
          7.4277854195323245,
          7.6923076923076925,
          6.401617250673855,
          8.311688311688311,
          7.538275235706254,
          7.909604519774012,
          6.521739130434782,
          7.130333138515487,
          1.66865315852205
         ],
         "yaxis": "y"
        },
        {
         "alignmentgroup": "True",
         "hovertemplate": "Injury Severity=SUSPECTED SERIOUS INJURY<br>Weather Condition=%{x}<br>Percentage=%{y}<br>text=%{text}<extra></extra>",
         "legendgroup": "SUSPECTED SERIOUS INJURY",
         "marker": {
          "color": "#FFA15A",
          "pattern": {
           "shape": ""
          }
         },
         "name": "SUSPECTED SERIOUS INJURY",
         "offsetgroup": "SUSPECTED SERIOUS INJURY",
         "orientation": "v",
         "showlegend": true,
         "text": [
          "0.6%",
          "0.9%",
          "0.9%",
          "1.1%",
          "1.4%",
          "0.7%",
          "0.5%",
          "0.7%",
          "0.6%",
          "1.3%",
          "0.4%",
          "0.4%"
         ],
         "textposition": "auto",
         "type": "bar",
         "x": [
          "BLOWING SNOW",
          "CLEAR",
          "CLOUDY",
          "FOG, SMOG, SMOKE",
          "FREEZING RAIN OR FREEZING DRIZZLE",
          "NAN",
          "OTHER",
          "RAIN",
          "SEVERE CROSSWINDS",
          "SLEET OR HAIL",
          "SNOW",
          "UNKNOWN"
         ],
         "xaxis": "x",
         "y": [
          0.5586592178770949,
          0.8502660771882173,
          0.9284093253558903,
          1.1004126547455295,
          1.3574660633484164,
          0.6813417190775681,
          0.5194805194805194,
          0.6746821209237955,
          0.5649717514124294,
          1.3043478260869565,
          0.3506721215663355,
          0.3575685339690107
         ],
         "yaxis": "y"
        },
        {
         "alignmentgroup": "True",
         "hovertemplate": "Injury Severity=FATAL INJURY<br>Weather Condition=%{x}<br>Percentage=%{y}<br>text=%{text}<extra></extra>",
         "legendgroup": "FATAL INJURY",
         "marker": {
          "color": "#19d3f3",
          "pattern": {
           "shape": ""
          }
         },
         "name": "FATAL INJURY",
         "offsetgroup": "FATAL INJURY",
         "orientation": "v",
         "showlegend": true,
         "text": [
          "0.1%",
          "0.1%",
          "0.1%",
          "0.2%",
          "0.1%",
          "0.0%"
         ],
         "textposition": "auto",
         "type": "bar",
         "x": [
          "CLEAR",
          "CLOUDY",
          "FOG, SMOG, SMOKE",
          "FREEZING RAIN OR FREEZING DRIZZLE",
          "NAN",
          "RAIN"
         ],
         "xaxis": "x",
         "y": [
          0.10333094688051252,
          0.08252527336496802,
          0.1375515818431912,
          0.22624434389140274,
          0.08235998802036539,
          0.04324885390537151
         ],
         "yaxis": "y"
        }
       ],
       "layout": {
        "barmode": "stack",
        "height": 700,
        "hovermode": "x unified",
        "legend": {
         "title": {
          "text": "Injury Severity"
         },
         "tracegroupgap": 0
        },
        "template": {
         "data": {
          "bar": [
           {
            "error_x": {
             "color": "#2a3f5f"
            },
            "error_y": {
             "color": "#2a3f5f"
            },
            "marker": {
             "line": {
              "color": "#E5ECF6",
              "width": 0.5
             },
             "pattern": {
              "fillmode": "overlay",
              "size": 10,
              "solidity": 0.2
             }
            },
            "type": "bar"
           }
          ],
          "barpolar": [
           {
            "marker": {
             "line": {
              "color": "#E5ECF6",
              "width": 0.5
             },
             "pattern": {
              "fillmode": "overlay",
              "size": 10,
              "solidity": 0.2
             }
            },
            "type": "barpolar"
           }
          ],
          "carpet": [
           {
            "aaxis": {
             "endlinecolor": "#2a3f5f",
             "gridcolor": "white",
             "linecolor": "white",
             "minorgridcolor": "white",
             "startlinecolor": "#2a3f5f"
            },
            "baxis": {
             "endlinecolor": "#2a3f5f",
             "gridcolor": "white",
             "linecolor": "white",
             "minorgridcolor": "white",
             "startlinecolor": "#2a3f5f"
            },
            "type": "carpet"
           }
          ],
          "choropleth": [
           {
            "colorbar": {
             "outlinewidth": 0,
             "ticks": ""
            },
            "type": "choropleth"
           }
          ],
          "contour": [
           {
            "colorbar": {
             "outlinewidth": 0,
             "ticks": ""
            },
            "colorscale": [
             [
              0,
              "#0d0887"
             ],
             [
              0.1111111111111111,
              "#46039f"
             ],
             [
              0.2222222222222222,
              "#7201a8"
             ],
             [
              0.3333333333333333,
              "#9c179e"
             ],
             [
              0.4444444444444444,
              "#bd3786"
             ],
             [
              0.5555555555555556,
              "#d8576b"
             ],
             [
              0.6666666666666666,
              "#ed7953"
             ],
             [
              0.7777777777777778,
              "#fb9f3a"
             ],
             [
              0.8888888888888888,
              "#fdca26"
             ],
             [
              1,
              "#f0f921"
             ]
            ],
            "type": "contour"
           }
          ],
          "contourcarpet": [
           {
            "colorbar": {
             "outlinewidth": 0,
             "ticks": ""
            },
            "type": "contourcarpet"
           }
          ],
          "heatmap": [
           {
            "colorbar": {
             "outlinewidth": 0,
             "ticks": ""
            },
            "colorscale": [
             [
              0,
              "#0d0887"
             ],
             [
              0.1111111111111111,
              "#46039f"
             ],
             [
              0.2222222222222222,
              "#7201a8"
             ],
             [
              0.3333333333333333,
              "#9c179e"
             ],
             [
              0.4444444444444444,
              "#bd3786"
             ],
             [
              0.5555555555555556,
              "#d8576b"
             ],
             [
              0.6666666666666666,
              "#ed7953"
             ],
             [
              0.7777777777777778,
              "#fb9f3a"
             ],
             [
              0.8888888888888888,
              "#fdca26"
             ],
             [
              1,
              "#f0f921"
             ]
            ],
            "type": "heatmap"
           }
          ],
          "heatmapgl": [
           {
            "colorbar": {
             "outlinewidth": 0,
             "ticks": ""
            },
            "colorscale": [
             [
              0,
              "#0d0887"
             ],
             [
              0.1111111111111111,
              "#46039f"
             ],
             [
              0.2222222222222222,
              "#7201a8"
             ],
             [
              0.3333333333333333,
              "#9c179e"
             ],
             [
              0.4444444444444444,
              "#bd3786"
             ],
             [
              0.5555555555555556,
              "#d8576b"
             ],
             [
              0.6666666666666666,
              "#ed7953"
             ],
             [
              0.7777777777777778,
              "#fb9f3a"
             ],
             [
              0.8888888888888888,
              "#fdca26"
             ],
             [
              1,
              "#f0f921"
             ]
            ],
            "type": "heatmapgl"
           }
          ],
          "histogram": [
           {
            "marker": {
             "pattern": {
              "fillmode": "overlay",
              "size": 10,
              "solidity": 0.2
             }
            },
            "type": "histogram"
           }
          ],
          "histogram2d": [
           {
            "colorbar": {
             "outlinewidth": 0,
             "ticks": ""
            },
            "colorscale": [
             [
              0,
              "#0d0887"
             ],
             [
              0.1111111111111111,
              "#46039f"
             ],
             [
              0.2222222222222222,
              "#7201a8"
             ],
             [
              0.3333333333333333,
              "#9c179e"
             ],
             [
              0.4444444444444444,
              "#bd3786"
             ],
             [
              0.5555555555555556,
              "#d8576b"
             ],
             [
              0.6666666666666666,
              "#ed7953"
             ],
             [
              0.7777777777777778,
              "#fb9f3a"
             ],
             [
              0.8888888888888888,
              "#fdca26"
             ],
             [
              1,
              "#f0f921"
             ]
            ],
            "type": "histogram2d"
           }
          ],
          "histogram2dcontour": [
           {
            "colorbar": {
             "outlinewidth": 0,
             "ticks": ""
            },
            "colorscale": [
             [
              0,
              "#0d0887"
             ],
             [
              0.1111111111111111,
              "#46039f"
             ],
             [
              0.2222222222222222,
              "#7201a8"
             ],
             [
              0.3333333333333333,
              "#9c179e"
             ],
             [
              0.4444444444444444,
              "#bd3786"
             ],
             [
              0.5555555555555556,
              "#d8576b"
             ],
             [
              0.6666666666666666,
              "#ed7953"
             ],
             [
              0.7777777777777778,
              "#fb9f3a"
             ],
             [
              0.8888888888888888,
              "#fdca26"
             ],
             [
              1,
              "#f0f921"
             ]
            ],
            "type": "histogram2dcontour"
           }
          ],
          "mesh3d": [
           {
            "colorbar": {
             "outlinewidth": 0,
             "ticks": ""
            },
            "type": "mesh3d"
           }
          ],
          "parcoords": [
           {
            "line": {
             "colorbar": {
              "outlinewidth": 0,
              "ticks": ""
             }
            },
            "type": "parcoords"
           }
          ],
          "pie": [
           {
            "automargin": true,
            "type": "pie"
           }
          ],
          "scatter": [
           {
            "fillpattern": {
             "fillmode": "overlay",
             "size": 10,
             "solidity": 0.2
            },
            "type": "scatter"
           }
          ],
          "scatter3d": [
           {
            "line": {
             "colorbar": {
              "outlinewidth": 0,
              "ticks": ""
             }
            },
            "marker": {
             "colorbar": {
              "outlinewidth": 0,
              "ticks": ""
             }
            },
            "type": "scatter3d"
           }
          ],
          "scattercarpet": [
           {
            "marker": {
             "colorbar": {
              "outlinewidth": 0,
              "ticks": ""
             }
            },
            "type": "scattercarpet"
           }
          ],
          "scattergeo": [
           {
            "marker": {
             "colorbar": {
              "outlinewidth": 0,
              "ticks": ""
             }
            },
            "type": "scattergeo"
           }
          ],
          "scattergl": [
           {
            "marker": {
             "colorbar": {
              "outlinewidth": 0,
              "ticks": ""
             }
            },
            "type": "scattergl"
           }
          ],
          "scattermapbox": [
           {
            "marker": {
             "colorbar": {
              "outlinewidth": 0,
              "ticks": ""
             }
            },
            "type": "scattermapbox"
           }
          ],
          "scatterpolar": [
           {
            "marker": {
             "colorbar": {
              "outlinewidth": 0,
              "ticks": ""
             }
            },
            "type": "scatterpolar"
           }
          ],
          "scatterpolargl": [
           {
            "marker": {
             "colorbar": {
              "outlinewidth": 0,
              "ticks": ""
             }
            },
            "type": "scatterpolargl"
           }
          ],
          "scatterternary": [
           {
            "marker": {
             "colorbar": {
              "outlinewidth": 0,
              "ticks": ""
             }
            },
            "type": "scatterternary"
           }
          ],
          "surface": [
           {
            "colorbar": {
             "outlinewidth": 0,
             "ticks": ""
            },
            "colorscale": [
             [
              0,
              "#0d0887"
             ],
             [
              0.1111111111111111,
              "#46039f"
             ],
             [
              0.2222222222222222,
              "#7201a8"
             ],
             [
              0.3333333333333333,
              "#9c179e"
             ],
             [
              0.4444444444444444,
              "#bd3786"
             ],
             [
              0.5555555555555556,
              "#d8576b"
             ],
             [
              0.6666666666666666,
              "#ed7953"
             ],
             [
              0.7777777777777778,
              "#fb9f3a"
             ],
             [
              0.8888888888888888,
              "#fdca26"
             ],
             [
              1,
              "#f0f921"
             ]
            ],
            "type": "surface"
           }
          ],
          "table": [
           {
            "cells": {
             "fill": {
              "color": "#EBF0F8"
             },
             "line": {
              "color": "white"
             }
            },
            "header": {
             "fill": {
              "color": "#C8D4E3"
             },
             "line": {
              "color": "white"
             }
            },
            "type": "table"
           }
          ]
         },
         "layout": {
          "annotationdefaults": {
           "arrowcolor": "#2a3f5f",
           "arrowhead": 0,
           "arrowwidth": 1
          },
          "autotypenumbers": "strict",
          "coloraxis": {
           "colorbar": {
            "outlinewidth": 0,
            "ticks": ""
           }
          },
          "colorscale": {
           "diverging": [
            [
             0,
             "#8e0152"
            ],
            [
             0.1,
             "#c51b7d"
            ],
            [
             0.2,
             "#de77ae"
            ],
            [
             0.3,
             "#f1b6da"
            ],
            [
             0.4,
             "#fde0ef"
            ],
            [
             0.5,
             "#f7f7f7"
            ],
            [
             0.6,
             "#e6f5d0"
            ],
            [
             0.7,
             "#b8e186"
            ],
            [
             0.8,
             "#7fbc41"
            ],
            [
             0.9,
             "#4d9221"
            ],
            [
             1,
             "#276419"
            ]
           ],
           "sequential": [
            [
             0,
             "#0d0887"
            ],
            [
             0.1111111111111111,
             "#46039f"
            ],
            [
             0.2222222222222222,
             "#7201a8"
            ],
            [
             0.3333333333333333,
             "#9c179e"
            ],
            [
             0.4444444444444444,
             "#bd3786"
            ],
            [
             0.5555555555555556,
             "#d8576b"
            ],
            [
             0.6666666666666666,
             "#ed7953"
            ],
            [
             0.7777777777777778,
             "#fb9f3a"
            ],
            [
             0.8888888888888888,
             "#fdca26"
            ],
            [
             1,
             "#f0f921"
            ]
           ],
           "sequentialminus": [
            [
             0,
             "#0d0887"
            ],
            [
             0.1111111111111111,
             "#46039f"
            ],
            [
             0.2222222222222222,
             "#7201a8"
            ],
            [
             0.3333333333333333,
             "#9c179e"
            ],
            [
             0.4444444444444444,
             "#bd3786"
            ],
            [
             0.5555555555555556,
             "#d8576b"
            ],
            [
             0.6666666666666666,
             "#ed7953"
            ],
            [
             0.7777777777777778,
             "#fb9f3a"
            ],
            [
             0.8888888888888888,
             "#fdca26"
            ],
            [
             1,
             "#f0f921"
            ]
           ]
          },
          "colorway": [
           "#636efa",
           "#EF553B",
           "#00cc96",
           "#ab63fa",
           "#FFA15A",
           "#19d3f3",
           "#FF6692",
           "#B6E880",
           "#FF97FF",
           "#FECB52"
          ],
          "font": {
           "color": "#2a3f5f"
          },
          "geo": {
           "bgcolor": "white",
           "lakecolor": "white",
           "landcolor": "#E5ECF6",
           "showlakes": true,
           "showland": true,
           "subunitcolor": "white"
          },
          "hoverlabel": {
           "align": "left"
          },
          "hovermode": "closest",
          "mapbox": {
           "style": "light"
          },
          "paper_bgcolor": "white",
          "plot_bgcolor": "#E5ECF6",
          "polar": {
           "angularaxis": {
            "gridcolor": "white",
            "linecolor": "white",
            "ticks": ""
           },
           "bgcolor": "#E5ECF6",
           "radialaxis": {
            "gridcolor": "white",
            "linecolor": "white",
            "ticks": ""
           }
          },
          "scene": {
           "xaxis": {
            "backgroundcolor": "#E5ECF6",
            "gridcolor": "white",
            "gridwidth": 2,
            "linecolor": "white",
            "showbackground": true,
            "ticks": "",
            "zerolinecolor": "white"
           },
           "yaxis": {
            "backgroundcolor": "#E5ECF6",
            "gridcolor": "white",
            "gridwidth": 2,
            "linecolor": "white",
            "showbackground": true,
            "ticks": "",
            "zerolinecolor": "white"
           },
           "zaxis": {
            "backgroundcolor": "#E5ECF6",
            "gridcolor": "white",
            "gridwidth": 2,
            "linecolor": "white",
            "showbackground": true,
            "ticks": "",
            "zerolinecolor": "white"
           }
          },
          "shapedefaults": {
           "line": {
            "color": "#2a3f5f"
           }
          },
          "ternary": {
           "aaxis": {
            "gridcolor": "white",
            "linecolor": "white",
            "ticks": ""
           },
           "baxis": {
            "gridcolor": "white",
            "linecolor": "white",
            "ticks": ""
           },
           "bgcolor": "#E5ECF6",
           "caxis": {
            "gridcolor": "white",
            "linecolor": "white",
            "ticks": ""
           }
          },
          "title": {
           "x": 0.05
          },
          "xaxis": {
           "automargin": true,
           "gridcolor": "white",
           "linecolor": "white",
           "ticks": "",
           "title": {
            "standoff": 15
           },
           "zerolinecolor": "white",
           "zerolinewidth": 2
          },
          "yaxis": {
           "automargin": true,
           "gridcolor": "white",
           "linecolor": "white",
           "ticks": "",
           "title": {
            "standoff": 15
           },
           "zerolinecolor": "white",
           "zerolinewidth": 2
          }
         }
        },
        "title": {
         "text": "Percentage of Injury Severity by Weather Conditions"
        },
        "width": 1200,
        "xaxis": {
         "anchor": "y",
         "domain": [
          0,
          1
         ],
         "title": {
          "text": "Weather Condition"
         }
        },
        "yaxis": {
         "anchor": "x",
         "domain": [
          0,
          1
         ],
         "title": {
          "text": "Percentage"
         }
        }
       }
      }
     },
     "metadata": {},
     "output_type": "display_data"
    }
   ],
   "source": [
    "grouped = df.groupby(['Weather', 'Injury Severity']).size().reset_index(name='Count')\n",
    "\n",
    "# Calculate percentage within each Weather condition\n",
    "grouped['Percent'] = grouped.groupby('Weather')['Count'].transform(lambda x: x / x.sum() * 100)\n",
    "\n",
    "# Plot interactive bar chart\n",
    "fig = px.bar(\n",
    "    grouped,\n",
    "    x='Weather',\n",
    "    y='Percent',\n",
    "    color='Injury Severity',\n",
    "    barmode='stack',\n",
    "    title='Percentage of Injury Severity by Weather Conditions',\n",
    "    labels={'Percent': 'Percentage', 'Weather': 'Weather Condition'},\n",
    "    text=grouped['Percent'].round(1).astype(str) + '%'\n",
    ")\n",
    "\n",
    "fig.update_layout(\n",
    "    width = 1200,\n",
    "    height = 700,\n",
    "    xaxis_title='Weather Condition',\n",
    "    yaxis_title='Percentage',\n",
    "    legend_title='Injury Severity',\n",
    "    hovermode='x unified'\n",
    ")\n",
    "\n",
    "fig.show()\n",
    "\n",
    "\n"
   ]
  },
  {
   "cell_type": "markdown",
   "id": "6953d497",
   "metadata": {},
   "source": [
    "**HeatMap for Surface Condition vs Drivers Fault**\n",
    "\n",
    "- **Driver Fault vs Surface Condition:**\n",
    "  - Most at-fault drivers are recorded on **dry surfaces**, potentially due to traffic density.\n",
    "  - Still, the **proportion of fault** on **wet or icy roads** remains significant, showing increased crash risk in such conditions.\n",
    "\n",
    "**Combined Effects:**\n",
    "  - Severe outcomes are more frequent when **bad weather** and **poor surface conditions** occur together.\n",
    "  - This suggests a **compounding effect** of environmental hazards on crash severity and fault."
   ]
  },
  {
   "cell_type": "code",
   "execution_count": 27,
   "id": "9ec03337",
   "metadata": {},
   "outputs": [
    {
     "name": "stdout",
     "output_type": "stream",
     "text": [
      "['Report Number', 'Local Case Number', 'Agency Name', 'ACRS Report Type', 'Crash Date/Time', 'Route Type', 'Collision Type', 'Weather', 'Surface Condition', 'Light', 'Traffic Control', 'Driver Substance Abuse', 'Person ID', 'Driver At Fault', 'Injury Severity', 'Driver Distracted By', 'Drivers License State', 'Vehicle ID', 'Vehicle Damage Extent', 'Vehicle First Impact Location', 'Vehicle Body Type', 'Vehicle Movement', 'Vehicle Going Dir', 'Speed Limit', 'Driverless Vehicle', 'Parked Vehicle', 'Vehicle Year', 'Vehicle Make', 'Vehicle Model', 'Latitude', 'Longitude', 'Location', 'Crash Date', 'Crash Time', 'Hour', 'Weekday']\n"
     ]
    },
    {
     "data": {
      "image/png": "[encoded data removed]",
      "text/plain": [
       "<Figure size 1000x600 with 2 Axes>"
      ]
     },
     "metadata": {},
     "output_type": "display_data"
    }
   ],
   "source": [
    "print(df.columns.tolist())\n",
    "df_heatmap = df[['Driver At Fault', 'Surface Condition']]\n",
    "crosstab = pd.crosstab(df_heatmap['Surface Condition'], df_heatmap['Driver At Fault'])\n",
    "\n",
    "# Plot the heatmap\n",
    "plt.figure(figsize=(10, 6))\n",
    "sns.heatmap(crosstab, annot=True, fmt='d', cmap='YlOrRd')\n",
    "plt.title('Heatmap: Surface Condition vs Driver At Fault')\n",
    "plt.xlabel('Driver At Fault')\n",
    "plt.ylabel('Surface Condition')\n",
    "plt.tight_layout()\n",
    "plt.show()"
   ]
  },
  {
   "cell_type": "markdown",
   "id": "9df5b2d9",
   "metadata": {},
   "source": [
    "## Research_Question_2\n",
    "\n",
    "## **When are crashes most likely to occur and how serious are they?**\n",
    "\n",
    "This analysis focuses on the **temporal patterns** of traffic crashes by examining:\n",
    "\n",
    "1. **Time of Day**  \n",
    "2. **Day of the Week**  \n",
    "3. **Injury Severity Trends Over Time**"
   ]
  },
  {
   "cell_type": "markdown",
   "id": "24ab968e",
   "metadata": {},
   "source": [
    "### Key Visualizations for Analysis\n",
    "\n",
    "- **Bar Chart for Crashes by Hour of Day**\n",
    "  - Reveals peak crash periods during **morning (7–9 AM)** and **evening rush hours (4–6 PM)**.\n",
    "  - Lesser incidents during **late night/early morning hours**."
   ]
  },
  {
   "cell_type": "code",
   "execution_count": 28,
   "id": "b215b99f",
   "metadata": {},
   "outputs": [
    {
     "data": {
      "image/png": "[encoded data removed]",
      "text/plain": [
       "<Figure size 1400x600 with 1 Axes>"
      ]
     },
     "metadata": {},
     "output_type": "display_data"
    }
   ],
   "source": [
    "# Prepare data\n",
    "hourly_data = df['Hour'].value_counts().sort_index().reset_index()\n",
    "hourly_data.columns = ['Hour', 'Crash Count']\n",
    "\n",
    "# Plot using Seaborn\n",
    "plt.figure(figsize=(14, 6))\n",
    "sns.barplot(data=hourly_data, x='Hour', y='Crash Count', color='steelblue')\n",
    "\n",
    "# Styling\n",
    "plt.title('Crashes by Hour of Day', fontsize=18)\n",
    "plt.xlabel('Hour of Day (0–23)', fontsize=14)\n",
    "plt.ylabel('Number of Crashes', fontsize=14)\n",
    "plt.xticks(fontsize=12)\n",
    "plt.yticks(fontsize=12)\n",
    "plt.grid(axis='y', linestyle='--', alpha=0.7)\n",
    "plt.tight_layout()\n",
    "plt.show()"
   ]
  },
  {
   "cell_type": "markdown",
   "id": "5279de5d",
   "metadata": {},
   "source": [
    "- **Bar Chart for Crashes by Weekday**\n",
    "  - Crashes tend to increase from **Monday through Friday**, with a slight dip during weekends.\n",
    "  - **Friday** typically records the **highest number of crashes**."
   ]
  },
  {
   "cell_type": "code",
   "execution_count": 29,
   "id": "6c001fe6",
   "metadata": {},
   "outputs": [
    {
     "data": {
      "image/png": "[encoded data removed]",
      "text/plain": [
       "<Figure size 1200x600 with 1 Axes>"
      ]
     },
     "metadata": {},
     "output_type": "display_data"
    }
   ],
   "source": [
    "# Ensure correct weekday order\n",
    "weekday_order = ['Monday', 'Tuesday', 'Wednesday', 'Thursday', 'Friday', 'Saturday', 'Sunday']\n",
    "\n",
    "#  Count and reindex\n",
    "weekly_data = df['Weekday'].value_counts().reindex(weekday_order).reset_index()\n",
    "weekly_data.columns = ['Weekday', 'Crash Count']\n",
    "\n",
    "#  Plot\n",
    "plt.figure(figsize=(12, 6))\n",
    "sns.barplot(data=weekly_data, x='Weekday', y='Crash Count', color='skyblue')\n",
    "\n",
    "# Style and label\n",
    "plt.title('Crashes by Day of the Week', fontsize=18)\n",
    "plt.xlabel('Weekday', fontsize=14)\n",
    "plt.ylabel('Number of Crashes', fontsize=14)\n",
    "plt.xticks(rotation=45, fontsize=12)\n",
    "plt.yticks(fontsize=12)\n",
    "plt.grid(axis='y', linestyle='--', alpha=0.7)\n",
    "plt.tight_layout()\n",
    "plt.show()"
   ]
  },
  {
   "cell_type": "markdown",
   "id": "79eb9cfa",
   "metadata": {},
   "source": [
    "- **Stacked Bar Chart for Hour of Day vs Injury Severity**\n",
    "  - Indicates that **severe injuries** are more common during **evening hours**, possibly due to higher speeds or impaired driving.\n",
    "  - **Minor injuries** dominate during most hours of the day."
   ]
  },
  {
   "cell_type": "code",
   "execution_count": 33,
   "id": "229dd1cb",
   "metadata": {},
   "outputs": [
    {
     "data": {
      "application/vnd.plotly.v1+json": {
       "config": {
        "plotlyServerURL": "https://plot.ly"
       },
       "data": [
        {
         "alignmentgroup": "True",
         "hovertemplate": "Injury Severity=FATAL INJURY<br>Hour of Day=%{x}<br>Number of Crashes=%{y}<extra></extra>",
         "legendgroup": "FATAL INJURY",
         "marker": {
          "color": "#636efa",
          "pattern": {
           "shape": ""
          }
         },
         "name": "FATAL INJURY",
         "offsetgroup": "FATAL INJURY",
         "orientation": "v",
         "showlegend": true,
         "textposition": "auto",
         "type": "bar",
         "x": [
          0,
          1,
          2,
          3,
          4,
          5,
          6,
          7,
          8,
          9,
          10,
          11,
          12,
          13,
          14,
          15,
          16,
          17,
          18,
          19,
          20,
          21,
          22,
          23
         ],
         "xaxis": "x",
         "y": [
          9,
          10,
          6,
          2,
          5,
          9,
          2,
          10,
          3,
          4,
          3,
          4,
          10,
          6,
          9,
          9,
          6,
          8,
          14,
          13,
          11,
          9,
          10,
          7
         ],
         "yaxis": "y"
        },
        {
         "alignmentgroup": "True",
         "hovertemplate": "Injury Severity=NAN<br>Hour of Day=%{x}<br>Number of Crashes=%{y}<extra></extra>",
         "legendgroup": "NAN",
         "marker": {
          "color": "#EF553B",
          "pattern": {
           "shape": ""
          }
         },
         "name": "NAN",
         "offsetgroup": "NAN",
         "orientation": "v",
         "showlegend": true,
         "textposition": "auto",
         "type": "bar",
         "x": [
          0,
          1,
          2,
          3,
          4,
          5,
          6,
          7,
          8,
          9,
          10,
          11,
          12,
          13,
          14,
          15,
          16,
          17,
          18,
          19,
          20,
          21,
          22,
          23
         ],
         "xaxis": "x",
         "y": [
          33,
          31,
          25,
          23,
          14,
          25,
          36,
          64,
          50,
          55,
          47,
          65,
          93,
          96,
          82,
          116,
          119,
          110,
          117,
          87,
          84,
          55,
          55,
          41
         ],
         "yaxis": "y"
        },
        {
         "alignmentgroup": "True",
         "hovertemplate": "Injury Severity=NO APPARENT INJURY<br>Hour of Day=%{x}<br>Number of Crashes=%{y}<extra></extra>",
         "legendgroup": "NO APPARENT INJURY",
         "marker": {
          "color": "#00cc96",
          "pattern": {
           "shape": ""
          }
         },
         "name": "NO APPARENT INJURY",
         "offsetgroup": "NO APPARENT INJURY",
         "orientation": "v",
         "showlegend": true,
         "textposition": "auto",
         "type": "bar",
         "x": [
          0,
          1,
          2,
          3,
          4,
          5,
          6,
          7,
          8,
          9,
          10,
          11,
          12,
          13,
          14,
          15,
          16,
          17,
          18,
          19,
          20,
          21,
          22,
          23
         ],
         "xaxis": "x",
         "y": [
          2349,
          1850,
          1598,
          1514,
          1283,
          2126,
          3912,
          7623,
          9682,
          8571,
          7200,
          7804,
          9064,
          9256,
          9946,
          12453,
          12714,
          12984,
          11218,
          8035,
          6008,
          5392,
          4085,
          3100
         ],
         "yaxis": "y"
        },
        {
         "alignmentgroup": "True",
         "hovertemplate": "Injury Severity=POSSIBLE INJURY<br>Hour of Day=%{x}<br>Number of Crashes=%{y}<extra></extra>",
         "legendgroup": "POSSIBLE INJURY",
         "marker": {
          "color": "#ab63fa",
          "pattern": {
           "shape": ""
          }
         },
         "name": "POSSIBLE INJURY",
         "offsetgroup": "POSSIBLE INJURY",
         "orientation": "v",
         "showlegend": true,
         "textposition": "auto",
         "type": "bar",
         "x": [
          0,
          1,
          2,
          3,
          4,
          5,
          6,
          7,
          8,
          9,
          10,
          11,
          12,
          13,
          14,
          15,
          16,
          17,
          18,
          19,
          20,
          21,
          22,
          23
         ],
         "xaxis": "x",
         "y": [
          215,
          211,
          158,
          123,
          165,
          332,
          575,
          996,
          1249,
          1125,
          876,
          1038,
          1139,
          1118,
          1240,
          1471,
          1382,
          1535,
          1300,
          845,
          658,
          613,
          402,
          297
         ],
         "yaxis": "y"
        },
        {
         "alignmentgroup": "True",
         "hovertemplate": "Injury Severity=SUSPECTED MINOR INJURY<br>Hour of Day=%{x}<br>Number of Crashes=%{y}<extra></extra>",
         "legendgroup": "SUSPECTED MINOR INJURY",
         "marker": {
          "color": "#FFA15A",
          "pattern": {
           "shape": ""
          }
         },
         "name": "SUSPECTED MINOR INJURY",
         "offsetgroup": "SUSPECTED MINOR INJURY",
         "orientation": "v",
         "showlegend": true,
         "textposition": "auto",
         "type": "bar",
         "x": [
          0,
          1,
          2,
          3,
          4,
          5,
          6,
          7,
          8,
          9,
          10,
          11,
          12,
          13,
          14,
          15,
          16,
          17,
          18,
          19,
          20,
          21,
          22,
          23
         ],
         "xaxis": "x",
         "y": [
          236,
          190,
          178,
          151,
          142,
          259,
          436,
          725,
          851,
          797,
          637,
          700,
          718,
          814,
          842,
          922,
          1008,
          1013,
          847,
          722,
          549,
          472,
          403,
          290
         ],
         "yaxis": "y"
        },
        {
         "alignmentgroup": "True",
         "hovertemplate": "Injury Severity=SUSPECTED SERIOUS INJURY<br>Hour of Day=%{x}<br>Number of Crashes=%{y}<extra></extra>",
         "legendgroup": "SUSPECTED SERIOUS INJURY",
         "marker": {
          "color": "#19d3f3",
          "pattern": {
           "shape": ""
          }
         },
         "name": "SUSPECTED SERIOUS INJURY",
         "offsetgroup": "SUSPECTED SERIOUS INJURY",
         "orientation": "v",
         "showlegend": true,
         "textposition": "auto",
         "type": "bar",
         "x": [
          0,
          1,
          2,
          3,
          4,
          5,
          6,
          7,
          8,
          9,
          10,
          11,
          12,
          13,
          14,
          15,
          16,
          17,
          18,
          19,
          20,
          21,
          22,
          23
         ],
         "xaxis": "x",
         "y": [
          33,
          36,
          33,
          29,
          15,
          36,
          52,
          78,
          97,
          79,
          70,
          70,
          81,
          105,
          90,
          114,
          113,
          100,
          81,
          72,
          69,
          57,
          50,
          49
         ],
         "yaxis": "y"
        }
       ],
       "layout": {
        "barmode": "stack",
        "hovermode": "x unified",
        "legend": {
         "title": {
          "text": "Injury Severity"
         },
         "tracegroupgap": 0
        },
        "plot_bgcolor": "rgba(0,0,0,0)",
        "template": {
         "data": {
          "bar": [
           {
            "error_x": {
             "color": "#2a3f5f"
            },
            "error_y": {
             "color": "#2a3f5f"
            },
            "marker": {
             "line": {
              "color": "#E5ECF6",
              "width": 0.5
             },
             "pattern": {
              "fillmode": "overlay",
              "size": 10,
              "solidity": 0.2
             }
            },
            "type": "bar"
           }
          ],
          "barpolar": [
           {
            "marker": {
             "line": {
              "color": "#E5ECF6",
              "width": 0.5
             },
             "pattern": {
              "fillmode": "overlay",
              "size": 10,
              "solidity": 0.2
             }
            },
            "type": "barpolar"
           }
          ],
          "carpet": [
           {
            "aaxis": {
             "endlinecolor": "#2a3f5f",
             "gridcolor": "white",
             "linecolor": "white",
             "minorgridcolor": "white",
             "startlinecolor": "#2a3f5f"
            },
            "baxis": {
             "endlinecolor": "#2a3f5f",
             "gridcolor": "white",
             "linecolor": "white",
             "minorgridcolor": "white",
             "startlinecolor": "#2a3f5f"
            },
            "type": "carpet"
           }
          ],
          "choropleth": [
           {
            "colorbar": {
             "outlinewidth": 0,
             "ticks": ""
            },
            "type": "choropleth"
           }
          ],
          "contour": [
           {
            "colorbar": {
             "outlinewidth": 0,
             "ticks": ""
            },
            "colorscale": [
             [
              0,
              "#0d0887"
             ],
             [
              0.1111111111111111,
              "#46039f"
             ],
             [
              0.2222222222222222,
              "#7201a8"
             ],
             [
              0.3333333333333333,
              "#9c179e"
             ],
             [
              0.4444444444444444,
              "#bd3786"
             ],
             [
              0.5555555555555556,
              "#d8576b"
             ],
             [
              0.6666666666666666,
              "#ed7953"
             ],
             [
              0.7777777777777778,
              "#fb9f3a"
             ],
             [
              0.8888888888888888,
              "#fdca26"
             ],
             [
              1,
              "#f0f921"
             ]
            ],
            "type": "contour"
           }
          ],
          "contourcarpet": [
           {
            "colorbar": {
             "outlinewidth": 0,
             "ticks": ""
            },
            "type": "contourcarpet"
           }
          ],
          "heatmap": [
           {
            "colorbar": {
             "outlinewidth": 0,
             "ticks": ""
            },
            "colorscale": [
             [
              0,
              "#0d0887"
             ],
             [
              0.1111111111111111,
              "#46039f"
             ],
             [
              0.2222222222222222,
              "#7201a8"
             ],
             [
              0.3333333333333333,
              "#9c179e"
             ],
             [
              0.4444444444444444,
              "#bd3786"
             ],
             [
              0.5555555555555556,
              "#d8576b"
             ],
             [
              0.6666666666666666,
              "#ed7953"
             ],
             [
              0.7777777777777778,
              "#fb9f3a"
             ],
             [
              0.8888888888888888,
              "#fdca26"
             ],
             [
              1,
              "#f0f921"
             ]
            ],
            "type": "heatmap"
           }
          ],
          "heatmapgl": [
           {
            "colorbar": {
             "outlinewidth": 0,
             "ticks": ""
            },
            "colorscale": [
             [
              0,
              "#0d0887"
             ],
             [
              0.1111111111111111,
              "#46039f"
             ],
             [
              0.2222222222222222,
              "#7201a8"
             ],
             [
              0.3333333333333333,
              "#9c179e"
             ],
             [
              0.4444444444444444,
              "#bd3786"
             ],
             [
              0.5555555555555556,
              "#d8576b"
             ],
             [
              0.6666666666666666,
              "#ed7953"
             ],
             [
              0.7777777777777778,
              "#fb9f3a"
             ],
             [
              0.8888888888888888,
              "#fdca26"
             ],
             [
              1,
              "#f0f921"
             ]
            ],
            "type": "heatmapgl"
           }
          ],
          "histogram": [
           {
            "marker": {
             "pattern": {
              "fillmode": "overlay",
              "size": 10,
              "solidity": 0.2
             }
            },
            "type": "histogram"
           }
          ],
          "histogram2d": [
           {
            "colorbar": {
             "outlinewidth": 0,
             "ticks": ""
            },
            "colorscale": [
             [
              0,
              "#0d0887"
             ],
             [
              0.1111111111111111,
              "#46039f"
             ],
             [
              0.2222222222222222,
              "#7201a8"
             ],
             [
              0.3333333333333333,
              "#9c179e"
             ],
             [
              0.4444444444444444,
              "#bd3786"
             ],
             [
              0.5555555555555556,
              "#d8576b"
             ],
             [
              0.6666666666666666,
              "#ed7953"
             ],
             [
              0.7777777777777778,
              "#fb9f3a"
             ],
             [
              0.8888888888888888,
              "#fdca26"
             ],
             [
              1,
              "#f0f921"
             ]
            ],
            "type": "histogram2d"
           }
          ],
          "histogram2dcontour": [
           {
            "colorbar": {
             "outlinewidth": 0,
             "ticks": ""
            },
            "colorscale": [
             [
              0,
              "#0d0887"
             ],
             [
              0.1111111111111111,
              "#46039f"
             ],
             [
              0.2222222222222222,
              "#7201a8"
             ],
             [
              0.3333333333333333,
              "#9c179e"
             ],
             [
              0.4444444444444444,
              "#bd3786"
             ],
             [
              0.5555555555555556,
              "#d8576b"
             ],
             [
              0.6666666666666666,
              "#ed7953"
             ],
             [
              0.7777777777777778,
              "#fb9f3a"
             ],
             [
              0.8888888888888888,
              "#fdca26"
             ],
             [
              1,
              "#f0f921"
             ]
            ],
            "type": "histogram2dcontour"
           }
          ],
          "mesh3d": [
           {
            "colorbar": {
             "outlinewidth": 0,
             "ticks": ""
            },
            "type": "mesh3d"
           }
          ],
          "parcoords": [
           {
            "line": {
             "colorbar": {
              "outlinewidth": 0,
              "ticks": ""
             }
            },
            "type": "parcoords"
           }
          ],
          "pie": [
           {
            "automargin": true,
            "type": "pie"
           }
          ],
          "scatter": [
           {
            "fillpattern": {
             "fillmode": "overlay",
             "size": 10,
             "solidity": 0.2
            },
            "type": "scatter"
           }
          ],
          "scatter3d": [
           {
            "line": {
             "colorbar": {
              "outlinewidth": 0,
              "ticks": ""
             }
            },
            "marker": {
             "colorbar": {
              "outlinewidth": 0,
              "ticks": ""
             }
            },
            "type": "scatter3d"
           }
          ],
          "scattercarpet": [
           {
            "marker": {
             "colorbar": {
              "outlinewidth": 0,
              "ticks": ""
             }
            },
            "type": "scattercarpet"
           }
          ],
          "scattergeo": [
           {
            "marker": {
             "colorbar": {
              "outlinewidth": 0,
              "ticks": ""
             }
            },
            "type": "scattergeo"
           }
          ],
          "scattergl": [
           {
            "marker": {
             "colorbar": {
              "outlinewidth": 0,
              "ticks": ""
             }
            },
            "type": "scattergl"
           }
          ],
          "scattermapbox": [
           {
            "marker": {
             "colorbar": {
              "outlinewidth": 0,
              "ticks": ""
             }
            },
            "type": "scattermapbox"
           }
          ],
          "scatterpolar": [
           {
            "marker": {
             "colorbar": {
              "outlinewidth": 0,
              "ticks": ""
             }
            },
            "type": "scatterpolar"
           }
          ],
          "scatterpolargl": [
           {
            "marker": {
             "colorbar": {
              "outlinewidth": 0,
              "ticks": ""
             }
            },
            "type": "scatterpolargl"
           }
          ],
          "scatterternary": [
           {
            "marker": {
             "colorbar": {
              "outlinewidth": 0,
              "ticks": ""
             }
            },
            "type": "scatterternary"
           }
          ],
          "surface": [
           {
            "colorbar": {
             "outlinewidth": 0,
             "ticks": ""
            },
            "colorscale": [
             [
              0,
              "#0d0887"
             ],
             [
              0.1111111111111111,
              "#46039f"
             ],
             [
              0.2222222222222222,
              "#7201a8"
             ],
             [
              0.3333333333333333,
              "#9c179e"
             ],
             [
              0.4444444444444444,
              "#bd3786"
             ],
             [
              0.5555555555555556,
              "#d8576b"
             ],
             [
              0.6666666666666666,
              "#ed7953"
             ],
             [
              0.7777777777777778,
              "#fb9f3a"
             ],
             [
              0.8888888888888888,
              "#fdca26"
             ],
             [
              1,
              "#f0f921"
             ]
            ],
            "type": "surface"
           }
          ],
          "table": [
           {
            "cells": {
             "fill": {
              "color": "#EBF0F8"
             },
             "line": {
              "color": "white"
             }
            },
            "header": {
             "fill": {
              "color": "#C8D4E3"
             },
             "line": {
              "color": "white"
             }
            },
            "type": "table"
           }
          ]
         },
         "layout": {
          "annotationdefaults": {
           "arrowcolor": "#2a3f5f",
           "arrowhead": 0,
           "arrowwidth": 1
          },
          "autotypenumbers": "strict",
          "coloraxis": {
           "colorbar": {
            "outlinewidth": 0,
            "ticks": ""
           }
          },
          "colorscale": {
           "diverging": [
            [
             0,
             "#8e0152"
            ],
            [
             0.1,
             "#c51b7d"
            ],
            [
             0.2,
             "#de77ae"
            ],
            [
             0.3,
             "#f1b6da"
            ],
            [
             0.4,
             "#fde0ef"
            ],
            [
             0.5,
             "#f7f7f7"
            ],
            [
             0.6,
             "#e6f5d0"
            ],
            [
             0.7,
             "#b8e186"
            ],
            [
             0.8,
             "#7fbc41"
            ],
            [
             0.9,
             "#4d9221"
            ],
            [
             1,
             "#276419"
            ]
           ],
           "sequential": [
            [
             0,
             "#0d0887"
            ],
            [
             0.1111111111111111,
             "#46039f"
            ],
            [
             0.2222222222222222,
             "#7201a8"
            ],
            [
             0.3333333333333333,
             "#9c179e"
            ],
            [
             0.4444444444444444,
             "#bd3786"
            ],
            [
             0.5555555555555556,
             "#d8576b"
            ],
            [
             0.6666666666666666,
             "#ed7953"
            ],
            [
             0.7777777777777778,
             "#fb9f3a"
            ],
            [
             0.8888888888888888,
             "#fdca26"
            ],
            [
             1,
             "#f0f921"
            ]
           ],
           "sequentialminus": [
            [
             0,
             "#0d0887"
            ],
            [
             0.1111111111111111,
             "#46039f"
            ],
            [
             0.2222222222222222,
             "#7201a8"
            ],
            [
             0.3333333333333333,
             "#9c179e"
            ],
            [
             0.4444444444444444,
             "#bd3786"
            ],
            [
             0.5555555555555556,
             "#d8576b"
            ],
            [
             0.6666666666666666,
             "#ed7953"
            ],
            [
             0.7777777777777778,
             "#fb9f3a"
            ],
            [
             0.8888888888888888,
             "#fdca26"
            ],
            [
             1,
             "#f0f921"
            ]
           ]
          },
          "colorway": [
           "#636efa",
           "#EF553B",
           "#00cc96",
           "#ab63fa",
           "#FFA15A",
           "#19d3f3",
           "#FF6692",
           "#B6E880",
           "#FF97FF",
           "#FECB52"
          ],
          "font": {
           "color": "#2a3f5f"
          },
          "geo": {
           "bgcolor": "white",
           "lakecolor": "white",
           "landcolor": "#E5ECF6",
           "showlakes": true,
           "showland": true,
           "subunitcolor": "white"
          },
          "hoverlabel": {
           "align": "left"
          },
          "hovermode": "closest",
          "mapbox": {
           "style": "light"
          },
          "paper_bgcolor": "white",
          "plot_bgcolor": "#E5ECF6",
          "polar": {
           "angularaxis": {
            "gridcolor": "white",
            "linecolor": "white",
            "ticks": ""
           },
           "bgcolor": "#E5ECF6",
           "radialaxis": {
            "gridcolor": "white",
            "linecolor": "white",
            "ticks": ""
           }
          },
          "scene": {
           "xaxis": {
            "backgroundcolor": "#E5ECF6",
            "gridcolor": "white",
            "gridwidth": 2,
            "linecolor": "white",
            "showbackground": true,
            "ticks": "",
            "zerolinecolor": "white"
           },
           "yaxis": {
            "backgroundcolor": "#E5ECF6",
            "gridcolor": "white",
            "gridwidth": 2,
            "linecolor": "white",
            "showbackground": true,
            "ticks": "",
            "zerolinecolor": "white"
           },
           "zaxis": {
            "backgroundcolor": "#E5ECF6",
            "gridcolor": "white",
            "gridwidth": 2,
            "linecolor": "white",
            "showbackground": true,
            "ticks": "",
            "zerolinecolor": "white"
           }
          },
          "shapedefaults": {
           "line": {
            "color": "#2a3f5f"
           }
          },
          "ternary": {
           "aaxis": {
            "gridcolor": "white",
            "linecolor": "white",
            "ticks": ""
           },
           "baxis": {
            "gridcolor": "white",
            "linecolor": "white",
            "ticks": ""
           },
           "bgcolor": "#E5ECF6",
           "caxis": {
            "gridcolor": "white",
            "linecolor": "white",
            "ticks": ""
           }
          },
          "title": {
           "x": 0.05
          },
          "xaxis": {
           "automargin": true,
           "gridcolor": "white",
           "linecolor": "white",
           "ticks": "",
           "title": {
            "standoff": 15
           },
           "zerolinecolor": "white",
           "zerolinewidth": 2
          },
          "yaxis": {
           "automargin": true,
           "gridcolor": "white",
           "linecolor": "white",
           "ticks": "",
           "title": {
            "standoff": 15
           },
           "zerolinecolor": "white",
           "zerolinewidth": 2
          }
         }
        },
        "title": {
         "text": "Interactive Stacked Bar Chart: Hour of Day vs Injury Severity"
        },
        "xaxis": {
         "anchor": "y",
         "categoryarray": [
          0,
          1,
          2,
          3,
          4,
          5,
          6,
          7,
          8,
          9,
          10,
          11,
          12,
          13,
          14,
          15,
          16,
          17,
          18,
          19,
          20,
          21,
          22,
          23
         ],
         "categoryorder": "array",
         "domain": [
          0,
          1
         ],
         "tickmode": "linear",
         "title": {
          "text": "Hour of Day"
         }
        },
        "yaxis": {
         "anchor": "x",
         "domain": [
          0,
          1
         ],
         "title": {
          "text": "Number of Crashes"
         }
        }
       }
      }
     },
     "metadata": {},
     "output_type": "display_data"
    }
   ],
   "source": [
    "# Group and prepare data\n",
    "hourly_severity = (\n",
    "    df.groupby(['Hour', 'Injury Severity'])\n",
    "      .size()\n",
    "      .reset_index(name='Count')\n",
    ")\n",
    "\n",
    "# Pivot to wide format for stacked bar chart\n",
    "grouped = df.groupby(['Hour', 'Injury Severity']).size().reset_index(name='Count')\n",
    "\n",
    "# Create the interactive stacked bar chart\n",
    "fig = px.bar(\n",
    "    grouped,\n",
    "    x='Hour',\n",
    "    y='Count',\n",
    "    color='Injury Severity',\n",
    "    title='Interactive Stacked Bar Chart: Hour of Day vs Injury Severity',\n",
    "    labels={'Hour': 'Hour of Day', 'Count': 'Number of Crashes'},\n",
    "    category_orders={'Hour': list(range(24))},  # Ensure hours are sorted correctly\n",
    ")\n",
    "\n",
    "# Update layout for better appearance\n",
    "fig.update_layout(\n",
    "    barmode='stack',\n",
    "    xaxis=dict(tickmode='linear'),\n",
    "    plot_bgcolor='rgba(0,0,0,0)',\n",
    "    hovermode='x unified'\n",
    ")\n",
    "\n",
    "# Show the interactive plot\n",
    "fig.show()"
   ]
  },
  {
   "cell_type": "markdown",
   "id": "14bed320",
   "metadata": {},
   "source": [
    "- **Heatmap for Crashes by Hour and Weekday**\n",
    "  - Clearly shows **high density of crashes on weekdays during peak traffic hours**.\n",
    "  - **Midday weekday periods** also reflect a steady number of incidents."
   ]
  },
  {
   "cell_type": "code",
   "execution_count": 34,
   "id": "24391f33",
   "metadata": {},
   "outputs": [
    {
     "data": {
      "image/png": "[encoded data removed]",
      "text/plain": [
       "<Figure size 1400x600 with 2 Axes>"
      ]
     },
     "metadata": {},
     "output_type": "display_data"
    }
   ],
   "source": [
    "# Prepare data\n",
    "heatmap_data = (\n",
    "    df.groupby(['Weekday', 'Hour'])\n",
    "      .size()\n",
    "      .reset_index(name='Count')\n",
    ")\n",
    "\n",
    "# Ensure proper weekday order\n",
    "df['Hour'] = df['Hour'].astype(int)\n",
    "\n",
    "# Create a pivot table: rows = Weekday, columns = Hour, values = number of crashes\n",
    "heatmap_data = df.pivot_table(index='Weekday', columns='Hour', aggfunc='size', fill_value=0)\n",
    "\n",
    "# Reorder weekdays (optional for better flow: Monday to Sunday)\n",
    "ordered_days = ['Monday', 'Tuesday', 'Wednesday', 'Thursday', 'Friday', 'Saturday', 'Sunday']\n",
    "heatmap_data = heatmap_data.reindex(ordered_days)\n",
    "\n",
    "# Plot heatmap with annotations\n",
    "plt.figure(figsize=(14, 6))\n",
    "sns.heatmap(heatmap_data, cmap='YlOrRd', annot=True, fmt='d', linewidths=0.3, linecolor='gray')\n",
    "plt.title('Heatmap of Crashes by Hour and Weekday')\n",
    "plt.xlabel('Hour of Day')\n",
    "plt.ylabel('Day of Week')\n",
    "plt.xticks(rotation=0)\n",
    "plt.tight_layout()\n",
    "plt.show()"
   ]
  },
  {
   "cell_type": "markdown",
   "id": "59962696",
   "metadata": {},
   "source": [
    "---"
   ]
  },
  {
   "cell_type": "markdown",
   "id": "7fc5495d",
   "metadata": {},
   "source": [
    "# 5"
   ]
  },
  {
   "cell_type": "markdown",
   "id": "6d8a4732",
   "metadata": {},
   "source": [
    "## **Conclusion: Research_Question_1**\n",
    "\n",
    "- Environmental conditions play a vital role in crash dynamics.\n",
    "\n",
    "**What should be done for to improve?**\n",
    "\n",
    "**Suggestion**\n",
    "- Improved **road maintenance**.\n",
    "- Real-time **driver alerts** during adverse weather.\n",
    "- Policy changes like **temporary speed limits** during hazardous conditions.\n",
    "## **Conclusion: Research_Question_2**\n",
    "\n",
    "- **Most crashes occur during peak commuting hours** and on **weekdays**, suggesting a strong correlation between traffic volume and crash frequency.\n",
    "- **Severity tends to rise** in the evenings, emphasizing the need for awareness during **post-work travel**.\n",
    "\n",
    "**How can it be improved?**\n",
    "\n",
    "**Suggestion**\n",
    "  - Adjusting traffic signal timings.\n",
    "  - Increasing patrol during high-risk hours.\n",
    "  - Public awareness campaigns around evening safety."
   ]
  },
  {
   "cell_type": "markdown",
   "id": "8107dec5",
   "metadata": {},
   "source": [
    "---"
   ]
  },
  {
   "cell_type": "markdown",
   "id": "ef136082",
   "metadata": {},
   "source": [
    "## Possible Next Steps could work on:\n",
    "\n",
    "**Time-Series Forecasting**\n",
    "\n",
    "- **Predict future crash trends** based on historical patterns through Machine Learning."
   ]
  },
  {
   "cell_type": "markdown",
   "id": "10b8610b",
   "metadata": {},
   "source": [
    "---"
   ]
  },
  {
   "cell_type": "markdown",
   "id": "982e6b06",
   "metadata": {},
   "source": [
    "# 6\n",
    "\n",
    "# Epilogue\n",
    "\n",
    "**Reference:** [<span id=\"fn1\">1.</span>](#fn1-back) _Author (https://catalog.data.gov/dataset?publisher=data.montgomerycountymd.gov)._ Title. Available at: https://catalog.data.gov/dataset/crash-reporting-drivers-data (Accessed: June 5, 2025). \n",
    "\n"
   ]
  }
 ],
 "metadata": {
  "kernelspec": {
   "display_name": "base",
   "language": "python",
   "name": "python3"
  },
  "language_info": {
   "codemirror_mode": {
    "name": "ipython",
    "version": 3
   },
   "file_extension": ".py",
   "mimetype": "text/x-python",
   "name": "python",
   "nbconvert_exporter": "python",
   "pygments_lexer": "ipython3",
   "version": "3.12.3"
  }
 },
 "nbformat": 4,
 "nbformat_minor": 5
}
